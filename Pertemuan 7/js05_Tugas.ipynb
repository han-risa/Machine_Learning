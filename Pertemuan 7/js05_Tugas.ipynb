{
 "cells": [
  {
   "cell_type": "markdown",
   "metadata": {},
   "source": [
    "# Getting started"
   ]
  },
  {
   "cell_type": "code",
   "execution_count": 1,
   "metadata": {},
   "outputs": [],
   "source": [
    "import numpy as np\n",
    "import pandas as pd\n",
    "import matplotlib.pyplot as plt\n",
    "import seaborn as sns\n",
    "\n",
    "from sklearn.preprocessing import LabelEncoder\n",
    "from sklearn.preprocessing import StandardScaler\n",
    "from sklearn.model_selection import train_test_split"
   ]
  },
  {
   "cell_type": "code",
   "execution_count": 3,
   "metadata": {},
   "outputs": [],
   "source": [
    "data = pd.read_csv(\"./dataset/mushrooms.csv\")"
   ]
  },
  {
   "cell_type": "code",
   "execution_count": 4,
   "metadata": {},
   "outputs": [
    {
     "data": {
      "text/html": [
       "<div>\n",
       "<style scoped>\n",
       "    .dataframe tbody tr th:only-of-type {\n",
       "        vertical-align: middle;\n",
       "    }\n",
       "\n",
       "    .dataframe tbody tr th {\n",
       "        vertical-align: top;\n",
       "    }\n",
       "\n",
       "    .dataframe thead th {\n",
       "        text-align: right;\n",
       "    }\n",
       "</style>\n",
       "<table border=\"1\" class=\"dataframe\">\n",
       "  <thead>\n",
       "    <tr style=\"text-align: right;\">\n",
       "      <th></th>\n",
       "      <th>class</th>\n",
       "      <th>cap-shape</th>\n",
       "      <th>cap-surface</th>\n",
       "      <th>cap-color</th>\n",
       "      <th>bruises</th>\n",
       "      <th>odor</th>\n",
       "      <th>gill-attachment</th>\n",
       "      <th>gill-spacing</th>\n",
       "      <th>gill-size</th>\n",
       "      <th>gill-color</th>\n",
       "      <th>...</th>\n",
       "      <th>stalk-surface-below-ring</th>\n",
       "      <th>stalk-color-above-ring</th>\n",
       "      <th>stalk-color-below-ring</th>\n",
       "      <th>veil-type</th>\n",
       "      <th>veil-color</th>\n",
       "      <th>ring-number</th>\n",
       "      <th>ring-type</th>\n",
       "      <th>spore-print-color</th>\n",
       "      <th>population</th>\n",
       "      <th>habitat</th>\n",
       "    </tr>\n",
       "  </thead>\n",
       "  <tbody>\n",
       "    <tr>\n",
       "      <th>0</th>\n",
       "      <td>p</td>\n",
       "      <td>x</td>\n",
       "      <td>s</td>\n",
       "      <td>n</td>\n",
       "      <td>t</td>\n",
       "      <td>p</td>\n",
       "      <td>f</td>\n",
       "      <td>c</td>\n",
       "      <td>n</td>\n",
       "      <td>k</td>\n",
       "      <td>...</td>\n",
       "      <td>s</td>\n",
       "      <td>w</td>\n",
       "      <td>w</td>\n",
       "      <td>p</td>\n",
       "      <td>w</td>\n",
       "      <td>o</td>\n",
       "      <td>p</td>\n",
       "      <td>k</td>\n",
       "      <td>s</td>\n",
       "      <td>u</td>\n",
       "    </tr>\n",
       "    <tr>\n",
       "      <th>1</th>\n",
       "      <td>e</td>\n",
       "      <td>x</td>\n",
       "      <td>s</td>\n",
       "      <td>y</td>\n",
       "      <td>t</td>\n",
       "      <td>a</td>\n",
       "      <td>f</td>\n",
       "      <td>c</td>\n",
       "      <td>b</td>\n",
       "      <td>k</td>\n",
       "      <td>...</td>\n",
       "      <td>s</td>\n",
       "      <td>w</td>\n",
       "      <td>w</td>\n",
       "      <td>p</td>\n",
       "      <td>w</td>\n",
       "      <td>o</td>\n",
       "      <td>p</td>\n",
       "      <td>n</td>\n",
       "      <td>n</td>\n",
       "      <td>g</td>\n",
       "    </tr>\n",
       "    <tr>\n",
       "      <th>2</th>\n",
       "      <td>e</td>\n",
       "      <td>b</td>\n",
       "      <td>s</td>\n",
       "      <td>w</td>\n",
       "      <td>t</td>\n",
       "      <td>l</td>\n",
       "      <td>f</td>\n",
       "      <td>c</td>\n",
       "      <td>b</td>\n",
       "      <td>n</td>\n",
       "      <td>...</td>\n",
       "      <td>s</td>\n",
       "      <td>w</td>\n",
       "      <td>w</td>\n",
       "      <td>p</td>\n",
       "      <td>w</td>\n",
       "      <td>o</td>\n",
       "      <td>p</td>\n",
       "      <td>n</td>\n",
       "      <td>n</td>\n",
       "      <td>m</td>\n",
       "    </tr>\n",
       "    <tr>\n",
       "      <th>3</th>\n",
       "      <td>p</td>\n",
       "      <td>x</td>\n",
       "      <td>y</td>\n",
       "      <td>w</td>\n",
       "      <td>t</td>\n",
       "      <td>p</td>\n",
       "      <td>f</td>\n",
       "      <td>c</td>\n",
       "      <td>n</td>\n",
       "      <td>n</td>\n",
       "      <td>...</td>\n",
       "      <td>s</td>\n",
       "      <td>w</td>\n",
       "      <td>w</td>\n",
       "      <td>p</td>\n",
       "      <td>w</td>\n",
       "      <td>o</td>\n",
       "      <td>p</td>\n",
       "      <td>k</td>\n",
       "      <td>s</td>\n",
       "      <td>u</td>\n",
       "    </tr>\n",
       "    <tr>\n",
       "      <th>4</th>\n",
       "      <td>e</td>\n",
       "      <td>x</td>\n",
       "      <td>s</td>\n",
       "      <td>g</td>\n",
       "      <td>f</td>\n",
       "      <td>n</td>\n",
       "      <td>f</td>\n",
       "      <td>w</td>\n",
       "      <td>b</td>\n",
       "      <td>k</td>\n",
       "      <td>...</td>\n",
       "      <td>s</td>\n",
       "      <td>w</td>\n",
       "      <td>w</td>\n",
       "      <td>p</td>\n",
       "      <td>w</td>\n",
       "      <td>o</td>\n",
       "      <td>e</td>\n",
       "      <td>n</td>\n",
       "      <td>a</td>\n",
       "      <td>g</td>\n",
       "    </tr>\n",
       "  </tbody>\n",
       "</table>\n",
       "<p>5 rows × 23 columns</p>\n",
       "</div>"
      ],
      "text/plain": [
       "  class cap-shape cap-surface cap-color bruises odor gill-attachment  \\\n",
       "0     p         x           s         n       t    p               f   \n",
       "1     e         x           s         y       t    a               f   \n",
       "2     e         b           s         w       t    l               f   \n",
       "3     p         x           y         w       t    p               f   \n",
       "4     e         x           s         g       f    n               f   \n",
       "\n",
       "  gill-spacing gill-size gill-color  ... stalk-surface-below-ring  \\\n",
       "0            c         n          k  ...                        s   \n",
       "1            c         b          k  ...                        s   \n",
       "2            c         b          n  ...                        s   \n",
       "3            c         n          n  ...                        s   \n",
       "4            w         b          k  ...                        s   \n",
       "\n",
       "  stalk-color-above-ring stalk-color-below-ring veil-type veil-color  \\\n",
       "0                      w                      w         p          w   \n",
       "1                      w                      w         p          w   \n",
       "2                      w                      w         p          w   \n",
       "3                      w                      w         p          w   \n",
       "4                      w                      w         p          w   \n",
       "\n",
       "  ring-number ring-type spore-print-color population habitat  \n",
       "0           o         p                 k          s       u  \n",
       "1           o         p                 n          n       g  \n",
       "2           o         p                 n          n       m  \n",
       "3           o         p                 k          s       u  \n",
       "4           o         e                 n          a       g  \n",
       "\n",
       "[5 rows x 23 columns]"
      ]
     },
     "execution_count": 4,
     "metadata": {},
     "output_type": "execute_result"
    }
   ],
   "source": [
    "data.head()"
   ]
  },
  {
   "cell_type": "markdown",
   "metadata": {},
   "source": [
    "# Preprocessing"
   ]
  },
  {
   "cell_type": "code",
   "execution_count": 5,
   "metadata": {},
   "outputs": [],
   "source": [
    "mappings = list()\n",
    "\n",
    "encoder = LabelEncoder()\n",
    "\n",
    "for column in range(len(data.columns)):\n",
    "    data[data.columns[column]] = encoder.fit_transform(data[data.columns[column]])\n",
    "    mappings_dict = {index: label for index, label in enumerate(encoder.classes_)}\n",
    "    mappings.append(mappings_dict)"
   ]
  },
  {
   "cell_type": "code",
   "execution_count": 6,
   "metadata": {},
   "outputs": [
    {
     "data": {
      "text/plain": [
       "[{0: 'e', 1: 'p'},\n",
       " {0: 'b', 1: 'c', 2: 'f', 3: 'k', 4: 's', 5: 'x'},\n",
       " {0: 'f', 1: 'g', 2: 's', 3: 'y'},\n",
       " {0: 'b',\n",
       "  1: 'c',\n",
       "  2: 'e',\n",
       "  3: 'g',\n",
       "  4: 'n',\n",
       "  5: 'p',\n",
       "  6: 'r',\n",
       "  7: 'u',\n",
       "  8: 'w',\n",
       "  9: 'y'},\n",
       " {0: 'f', 1: 't'},\n",
       " {0: 'a', 1: 'c', 2: 'f', 3: 'l', 4: 'm', 5: 'n', 6: 'p', 7: 's', 8: 'y'},\n",
       " {0: 'a', 1: 'f'},\n",
       " {0: 'c', 1: 'w'},\n",
       " {0: 'b', 1: 'n'},\n",
       " {0: 'b',\n",
       "  1: 'e',\n",
       "  2: 'g',\n",
       "  3: 'h',\n",
       "  4: 'k',\n",
       "  5: 'n',\n",
       "  6: 'o',\n",
       "  7: 'p',\n",
       "  8: 'r',\n",
       "  9: 'u',\n",
       "  10: 'w',\n",
       "  11: 'y'},\n",
       " {0: 'e', 1: 't'},\n",
       " {0: '?', 1: 'b', 2: 'c', 3: 'e', 4: 'r'},\n",
       " {0: 'f', 1: 'k', 2: 's', 3: 'y'},\n",
       " {0: 'f', 1: 'k', 2: 's', 3: 'y'},\n",
       " {0: 'b', 1: 'c', 2: 'e', 3: 'g', 4: 'n', 5: 'o', 6: 'p', 7: 'w', 8: 'y'},\n",
       " {0: 'b', 1: 'c', 2: 'e', 3: 'g', 4: 'n', 5: 'o', 6: 'p', 7: 'w', 8: 'y'},\n",
       " {0: 'p'},\n",
       " {0: 'n', 1: 'o', 2: 'w', 3: 'y'},\n",
       " {0: 'n', 1: 'o', 2: 't'},\n",
       " {0: 'e', 1: 'f', 2: 'l', 3: 'n', 4: 'p'},\n",
       " {0: 'b', 1: 'h', 2: 'k', 3: 'n', 4: 'o', 5: 'r', 6: 'u', 7: 'w', 8: 'y'},\n",
       " {0: 'a', 1: 'c', 2: 'n', 3: 's', 4: 'v', 5: 'y'},\n",
       " {0: 'd', 1: 'g', 2: 'l', 3: 'm', 4: 'p', 5: 'u', 6: 'w'}]"
      ]
     },
     "execution_count": 6,
     "metadata": {},
     "output_type": "execute_result"
    }
   ],
   "source": [
    "mappings"
   ]
  },
  {
   "cell_type": "code",
   "execution_count": 7,
   "metadata": {},
   "outputs": [],
   "source": [
    "y = data['class']\n",
    "X = data[['cap-shape', 'cap-surface']]"
   ]
  },
  {
   "cell_type": "code",
   "execution_count": 8,
   "metadata": {},
   "outputs": [
    {
     "name": "stdout",
     "output_type": "stream",
     "text": [
      "      cap-shape  cap-surface\n",
      "0      1.029712     0.140128\n",
      "1      1.029712     0.140128\n",
      "2     -2.087047     0.140128\n",
      "3      1.029712     0.953270\n",
      "4      1.029712     0.140128\n",
      "...         ...          ...\n",
      "8119  -0.216992     0.140128\n",
      "8120   1.029712     0.140128\n",
      "8121  -0.840343     0.140128\n",
      "8122  -0.216992     0.953270\n",
      "8123   1.029712     0.140128\n",
      "\n",
      "[8124 rows x 2 columns]\n"
     ]
    }
   ],
   "source": [
    "scaler = StandardScaler()\n",
    "\n",
    "X = pd.DataFrame(scaler.fit_transform(X), columns=X.columns)\n",
    "\n",
    "print(X)"
   ]
  },
  {
   "cell_type": "code",
   "execution_count": 9,
   "metadata": {},
   "outputs": [],
   "source": [
    "X_train, X_test, y_train, y_test = train_test_split(X, y, train_size=0.8)"
   ]
  },
  {
   "cell_type": "markdown",
   "metadata": {},
   "source": [
    "# Training Process"
   ]
  },
  {
   "cell_type": "code",
   "execution_count": 10,
   "metadata": {},
   "outputs": [
    {
     "data": {
      "text/plain": [
       "DecisionTreeClassifier(max_depth=8, random_state=2)"
      ]
     },
     "execution_count": 10,
     "metadata": {},
     "output_type": "execute_result"
    }
   ],
   "source": [
    "from sklearn.tree import DecisionTreeClassifier\n",
    "\n",
    "dt = DecisionTreeClassifier(max_depth=8, random_state=2)\n",
    "dt.fit(X_train, y_train)\n",
    "dt.fit(X_train, y_train)\n"
   ]
  },
  {
   "cell_type": "code",
   "execution_count": 11,
   "metadata": {},
   "outputs": [],
   "source": [
    "#Model Selection\n",
    "from sklearn.linear_model import LogisticRegression\n",
    "from sklearn.svm import SVC\n",
    "from sklearn.neural_network import MLPClassifier"
   ]
  },
  {
   "cell_type": "code",
   "execution_count": 12,
   "metadata": {},
   "outputs": [],
   "source": [
    "log_model = LogisticRegression()\n",
    "svm_model = SVC(C=1.0, kernel='rbf')\n",
    "nn_model = MLPClassifier(hidden_layer_sizes=(128, 128))"
   ]
  },
  {
   "cell_type": "markdown",
   "metadata": {},
   "source": [
    "# Training"
   ]
  },
  {
   "cell_type": "code",
   "execution_count": 13,
   "metadata": {},
   "outputs": [
    {
     "data": {
      "text/plain": [
       "0.48202855736090594"
      ]
     },
     "execution_count": 13,
     "metadata": {},
     "output_type": "execute_result"
    }
   ],
   "source": [
    "np.sum(y) / len(y)"
   ]
  },
  {
   "cell_type": "code",
   "execution_count": 14,
   "metadata": {},
   "outputs": [
    {
     "data": {
      "text/plain": [
       "MLPClassifier(hidden_layer_sizes=(128, 128))"
      ]
     },
     "execution_count": 14,
     "metadata": {},
     "output_type": "execute_result"
    }
   ],
   "source": [
    "log_model.fit(X_train, y_train)\n",
    "svm_model.fit(X_train, y_train)\n",
    "nn_model.fit(X_train, y_train)"
   ]
  },
  {
   "cell_type": "code",
   "execution_count": 15,
   "metadata": {},
   "outputs": [],
   "source": [
    "from sklearn.metrics import accuracy_score\n",
    "\n",
    "y_pred = dt.predict(X_test)\n",
    "\n",
    "acc = accuracy_score(y_test, y_pred)"
   ]
  },
  {
   "cell_type": "code",
   "execution_count": 16,
   "metadata": {},
   "outputs": [
    {
     "name": "stdout",
     "output_type": "stream",
     "text": [
      "Logistic Regression : 0.5538461538461539\n",
      "Support Vector Machine : 0.6338461538461538\n",
      "Neural Network : 0.6326153846153846\n",
      "Metrics Acc : 0.63\n"
     ]
    }
   ],
   "source": [
    "print(f\"Logistic Regression : {log_model.score(X_test, y_test)}\")\n",
    "print(f\"Support Vector Machine : {svm_model.score(X_test, y_test)}\")\n",
    "print(f\"Neural Network : {nn_model.score(X_test, y_test)}\")\n",
    "print(\"Metrics Acc : {:.2f}\".format(acc))"
   ]
  },
  {
   "cell_type": "code",
   "execution_count": 17,
   "metadata": {},
   "outputs": [
    {
     "data": {
      "text/plain": [
       "<AxesSubplot:>"
      ]
     },
     "execution_count": 17,
     "metadata": {},
     "output_type": "execute_result"
    },
    {
     "data": {
      "image/png": "[encoded data removed]",
      "text/plain": [
       "<Figure size 432x288 with 2 Axes>"
      ]
     },
     "metadata": {
      "needs_background": "light"
     },
     "output_type": "display_data"
    }
   ],
   "source": [
    "X_test.shape\n",
    "\n",
    "corr = data.corr()\n",
    "\n",
    "sns.heatmap(corr)"
   ]
  },
  {
   "cell_type": "code",
   "execution_count": 20,
   "metadata": {},
   "outputs": [
    {
     "data": {
      "image/svg+xml": "<?xml version=\"1.0\" encoding=\"UTF-8\" standalone=\"no\"?>\r\n<!DOCTYPE svg PUBLIC \"-//W3C//DTD SVG 1.1//EN\"\r\n \"http://www.w3.org/Graphics/SVG/1.1/DTD/svg11.dtd\">\r\n<!-- Generated by graphviz version 2.38.0 (20140413.2041)\r\n -->\r\n<!-- Title: Tree Pages: 1 -->\r\n<svg width=\"1267pt\" height=\"790pt\"\r\n viewBox=\"0.00 0.00 1267.00 790.00\" xmlns=\"http://www.w3.org/2000/svg\" xmlns:xlink=\"http://www.w3.org/1999/xlink\">\r\n<g id=\"graph0\" class=\"graph\" transform=\"scale(1 1) rotate(0) translate(4 786)\">\r\n<title>Tree</title>\r\n<polygon fill=\"white\" stroke=\"none\" points=\"-4,4 -4,-786 1263,-786 1263,4 -4,4\"/>\r\n<!-- 0 -->\r\n<g id=\"node1\" class=\"node\"><title>0</title>\r\n<path fill=\"#fdf8f3\" stroke=\"black\" d=\"M471,-782C471,-782 349,-782 349,-782 343,-782 337,-776 337,-770 337,-770 337,-711 337,-711 337,-705 343,-699 349,-699 349,-699 471,-699 471,-699 477,-699 483,-705 483,-711 483,-711 483,-770 483,-770 483,-776 477,-782 471,-782\"/>\r\n<text text-anchor=\"start\" x=\"346\" y=\"-766.8\" font-family=\"Helvetica,sans-Serif\" font-size=\"14.00\">Cap Surface ≤ &#45;1.08</text>\r\n<text text-anchor=\"start\" x=\"381\" y=\"-751.8\" font-family=\"Helvetica,sans-Serif\" font-size=\"14.00\">gini = 0.5</text>\r\n<text text-anchor=\"start\" x=\"358.5\" y=\"-736.8\" font-family=\"Helvetica,sans-Serif\" font-size=\"14.00\">samples = 6499</text>\r\n<text text-anchor=\"start\" x=\"345\" y=\"-721.8\" font-family=\"Helvetica,sans-Serif\" font-size=\"14.00\">value = [3349, 3150]</text>\r\n<text text-anchor=\"start\" x=\"380.5\" y=\"-706.8\" font-family=\"Helvetica,sans-Serif\" font-size=\"14.00\">class = P</text>\r\n</g>\r\n<!-- 1 -->\r\n<g id=\"node2\" class=\"node\"><title>1</title>\r\n<path fill=\"#f2bf9a\" stroke=\"black\" d=\"M361,-663C361,-663 241,-663 241,-663 235,-663 229,-657 229,-651 229,-651 229,-592 229,-592 229,-586 235,-580 241,-580 241,-580 361,-580 361,-580 367,-580 373,-586 373,-592 373,-592 373,-651 373,-651 373,-657 367,-663 361,-663\"/>\r\n<text text-anchor=\"start\" x=\"237\" y=\"-647.8\" font-family=\"Helvetica,sans-Serif\" font-size=\"14.00\">Cap Shape ≤ &#45;1.464</text>\r\n<text text-anchor=\"start\" x=\"263.5\" y=\"-632.8\" font-family=\"Helvetica,sans-Serif\" font-size=\"14.00\">gini = 0.441</text>\r\n<text text-anchor=\"start\" x=\"249.5\" y=\"-617.8\" font-family=\"Helvetica,sans-Serif\" font-size=\"14.00\">samples = 1856</text>\r\n<text text-anchor=\"start\" x=\"240\" y=\"-602.8\" font-family=\"Helvetica,sans-Serif\" font-size=\"14.00\">value = [1246, 610]</text>\r\n<text text-anchor=\"start\" x=\"271.5\" y=\"-587.8\" font-family=\"Helvetica,sans-Serif\" font-size=\"14.00\">class = P</text>\r\n</g>\r\n<!-- 0&#45;&gt;1 -->\r\n<g id=\"edge1\" class=\"edge\"><title>0&#45;&gt;1</title>\r\n<path fill=\"none\" stroke=\"black\" d=\"M372.183,-698.907C363.644,-689.742 354.5,-679.927 345.708,-670.489\"/>\r\n<polygon fill=\"black\" stroke=\"black\" points=\"348.128,-667.952 338.75,-663.021 343.006,-672.723 348.128,-667.952\"/>\r\n<text text-anchor=\"middle\" x=\"337.866\" y=\"-684.305\" font-family=\"Helvetica,sans-Serif\" font-size=\"14.00\">True</text>\r\n</g>\r\n<!-- 10 -->\r\n<g id=\"node11\" class=\"node\"><title>10</title>\r\n<path fill=\"#ddeefb\" stroke=\"black\" d=\"M580,-663C580,-663 458,-663 458,-663 452,-663 446,-657 446,-651 446,-651 446,-592 446,-592 446,-586 452,-580 458,-580 458,-580 580,-580 580,-580 586,-580 592,-586 592,-592 592,-592 592,-651 592,-651 592,-657 586,-663 580,-663\"/>\r\n<text text-anchor=\"start\" x=\"455\" y=\"-647.8\" font-family=\"Helvetica,sans-Serif\" font-size=\"14.00\">Cap Shape ≤ &#45;1.775</text>\r\n<text text-anchor=\"start\" x=\"481.5\" y=\"-632.8\" font-family=\"Helvetica,sans-Serif\" font-size=\"14.00\">gini = 0.496</text>\r\n<text text-anchor=\"start\" x=\"467.5\" y=\"-617.8\" font-family=\"Helvetica,sans-Serif\" font-size=\"14.00\">samples = 4643</text>\r\n<text text-anchor=\"start\" x=\"454\" y=\"-602.8\" font-family=\"Helvetica,sans-Serif\" font-size=\"14.00\">value = [2103, 2540]</text>\r\n<text text-anchor=\"start\" x=\"489.5\" y=\"-587.8\" font-family=\"Helvetica,sans-Serif\" font-size=\"14.00\">class = E</text>\r\n</g>\r\n<!-- 0&#45;&gt;10 -->\r\n<g id=\"edge10\" class=\"edge\"><title>0&#45;&gt;10</title>\r\n<path fill=\"none\" stroke=\"black\" d=\"M447.817,-698.907C456.356,-689.742 465.5,-679.927 474.292,-670.489\"/>\r\n<polygon fill=\"black\" stroke=\"black\" points=\"476.994,-672.723 481.25,-663.021 471.872,-667.952 476.994,-672.723\"/>\r\n<text text-anchor=\"middle\" x=\"482.134\" y=\"-684.305\" font-family=\"Helvetica,sans-Serif\" font-size=\"14.00\">False</text>\r\n</g>\r\n<!-- 2 -->\r\n<g id=\"node3\" class=\"node\"><title>2</title>\r\n<path fill=\"#e88f4f\" stroke=\"black\" d=\"M200.5,-536.5C200.5,-536.5 119.5,-536.5 119.5,-536.5 113.5,-536.5 107.5,-530.5 107.5,-524.5 107.5,-524.5 107.5,-480.5 107.5,-480.5 107.5,-474.5 113.5,-468.5 119.5,-468.5 119.5,-468.5 200.5,-468.5 200.5,-468.5 206.5,-468.5 212.5,-474.5 212.5,-480.5 212.5,-480.5 212.5,-524.5 212.5,-524.5 212.5,-530.5 206.5,-536.5 200.5,-536.5\"/>\r\n<text text-anchor=\"start\" x=\"126.5\" y=\"-521.3\" font-family=\"Helvetica,sans-Serif\" font-size=\"14.00\">gini = 0.18</text>\r\n<text text-anchor=\"start\" x=\"116.5\" y=\"-506.3\" font-family=\"Helvetica,sans-Serif\" font-size=\"14.00\">samples = 40</text>\r\n<text text-anchor=\"start\" x=\"115.5\" y=\"-491.3\" font-family=\"Helvetica,sans-Serif\" font-size=\"14.00\">value = [36, 4]</text>\r\n<text text-anchor=\"start\" x=\"130.5\" y=\"-476.3\" font-family=\"Helvetica,sans-Serif\" font-size=\"14.00\">class = P</text>\r\n</g>\r\n<!-- 1&#45;&gt;2 -->\r\n<g id=\"edge2\" class=\"edge\"><title>1&#45;&gt;2</title>\r\n<path fill=\"none\" stroke=\"black\" d=\"M252.081,-579.907C237.719,-567.99 222.035,-554.976 207.747,-543.12\"/>\r\n<polygon fill=\"black\" stroke=\"black\" points=\"209.901,-540.359 199.97,-536.667 205.431,-545.746 209.901,-540.359\"/>\r\n</g>\r\n<!-- 3 -->\r\n<g id=\"node4\" class=\"node\"><title>3</title>\r\n<path fill=\"#f2c09c\" stroke=\"black\" d=\"M359,-544C359,-544 243,-544 243,-544 237,-544 231,-538 231,-532 231,-532 231,-473 231,-473 231,-467 237,-461 243,-461 243,-461 359,-461 359,-461 365,-461 371,-467 371,-473 371,-473 371,-532 371,-532 371,-538 365,-544 359,-544\"/>\r\n<text text-anchor=\"start\" x=\"239\" y=\"-528.8\" font-family=\"Helvetica,sans-Serif\" font-size=\"14.00\">Cap Shape ≤ 0.718</text>\r\n<text text-anchor=\"start\" x=\"263.5\" y=\"-513.8\" font-family=\"Helvetica,sans-Serif\" font-size=\"14.00\">gini = 0.445</text>\r\n<text text-anchor=\"start\" x=\"249.5\" y=\"-498.8\" font-family=\"Helvetica,sans-Serif\" font-size=\"14.00\">samples = 1816</text>\r\n<text text-anchor=\"start\" x=\"240\" y=\"-483.8\" font-family=\"Helvetica,sans-Serif\" font-size=\"14.00\">value = [1210, 606]</text>\r\n<text text-anchor=\"start\" x=\"271.5\" y=\"-468.8\" font-family=\"Helvetica,sans-Serif\" font-size=\"14.00\">class = P</text>\r\n</g>\r\n<!-- 1&#45;&gt;3 -->\r\n<g id=\"edge3\" class=\"edge\"><title>1&#45;&gt;3</title>\r\n<path fill=\"none\" stroke=\"black\" d=\"M301,-579.907C301,-571.649 301,-562.864 301,-554.302\"/>\r\n<polygon fill=\"black\" stroke=\"black\" points=\"304.5,-554.021 301,-544.021 297.5,-554.021 304.5,-554.021\"/>\r\n</g>\r\n<!-- 4 -->\r\n<g id=\"node5\" class=\"node\"><title>4</title>\r\n<path fill=\"#f0b890\" stroke=\"black\" d=\"M206,-425C206,-425 86,-425 86,-425 80,-425 74,-419 74,-413 74,-413 74,-354 74,-354 74,-348 80,-342 86,-342 86,-342 206,-342 206,-342 212,-342 218,-348 218,-354 218,-354 218,-413 218,-413 218,-419 212,-425 206,-425\"/>\r\n<text text-anchor=\"start\" x=\"82\" y=\"-409.8\" font-family=\"Helvetica,sans-Serif\" font-size=\"14.00\">Cap Shape ≤ &#45;0.529</text>\r\n<text text-anchor=\"start\" x=\"108.5\" y=\"-394.8\" font-family=\"Helvetica,sans-Serif\" font-size=\"14.00\">gini = 0.424</text>\r\n<text text-anchor=\"start\" x=\"98.5\" y=\"-379.8\" font-family=\"Helvetica,sans-Serif\" font-size=\"14.00\">samples = 888</text>\r\n<text text-anchor=\"start\" x=\"89\" y=\"-364.8\" font-family=\"Helvetica,sans-Serif\" font-size=\"14.00\">value = [617, 271]</text>\r\n<text text-anchor=\"start\" x=\"116.5\" y=\"-349.8\" font-family=\"Helvetica,sans-Serif\" font-size=\"14.00\">class = P</text>\r\n</g>\r\n<!-- 3&#45;&gt;4 -->\r\n<g id=\"edge4\" class=\"edge\"><title>3&#45;&gt;4</title>\r\n<path fill=\"none\" stroke=\"black\" d=\"M247.224,-460.907C234.48,-451.288 220.789,-440.953 207.722,-431.09\"/>\r\n<polygon fill=\"black\" stroke=\"black\" points=\"209.772,-428.252 199.681,-425.021 205.554,-433.839 209.772,-428.252\"/>\r\n</g>\r\n<!-- 9 -->\r\n<g id=\"node10\" class=\"node\"><title>9</title>\r\n<path fill=\"#f4c8a9\" stroke=\"black\" d=\"M354,-417.5C354,-417.5 248,-417.5 248,-417.5 242,-417.5 236,-411.5 236,-405.5 236,-405.5 236,-361.5 236,-361.5 236,-355.5 242,-349.5 248,-349.5 248,-349.5 354,-349.5 354,-349.5 360,-349.5 366,-355.5 366,-361.5 366,-361.5 366,-405.5 366,-405.5 366,-411.5 360,-417.5 354,-417.5\"/>\r\n<text text-anchor=\"start\" x=\"263.5\" y=\"-402.3\" font-family=\"Helvetica,sans-Serif\" font-size=\"14.00\">gini = 0.461</text>\r\n<text text-anchor=\"start\" x=\"253.5\" y=\"-387.3\" font-family=\"Helvetica,sans-Serif\" font-size=\"14.00\">samples = 928</text>\r\n<text text-anchor=\"start\" x=\"244\" y=\"-372.3\" font-family=\"Helvetica,sans-Serif\" font-size=\"14.00\">value = [593, 335]</text>\r\n<text text-anchor=\"start\" x=\"271.5\" y=\"-357.3\" font-family=\"Helvetica,sans-Serif\" font-size=\"14.00\">class = P</text>\r\n</g>\r\n<!-- 3&#45;&gt;9 -->\r\n<g id=\"edge9\" class=\"edge\"><title>3&#45;&gt;9</title>\r\n<path fill=\"none\" stroke=\"black\" d=\"M301,-460.907C301,-450.204 301,-438.615 301,-427.776\"/>\r\n<polygon fill=\"black\" stroke=\"black\" points=\"304.5,-427.667 301,-417.667 297.5,-427.667 304.5,-427.667\"/>\r\n</g>\r\n<!-- 5 -->\r\n<g id=\"node6\" class=\"node\"><title>5</title>\r\n<path fill=\"#f2bf9a\" stroke=\"black\" d=\"M118,-298.5C118,-298.5 12,-298.5 12,-298.5 6,-298.5 0,-292.5 0,-286.5 0,-286.5 0,-242.5 0,-242.5 0,-236.5 6,-230.5 12,-230.5 12,-230.5 118,-230.5 118,-230.5 124,-230.5 130,-236.5 130,-242.5 130,-242.5 130,-286.5 130,-286.5 130,-292.5 124,-298.5 118,-298.5\"/>\r\n<text text-anchor=\"start\" x=\"27.5\" y=\"-283.3\" font-family=\"Helvetica,sans-Serif\" font-size=\"14.00\">gini = 0.441</text>\r\n<text text-anchor=\"start\" x=\"17.5\" y=\"-268.3\" font-family=\"Helvetica,sans-Serif\" font-size=\"14.00\">samples = 817</text>\r\n<text text-anchor=\"start\" x=\"8\" y=\"-253.3\" font-family=\"Helvetica,sans-Serif\" font-size=\"14.00\">value = [549, 268]</text>\r\n<text text-anchor=\"start\" x=\"35.5\" y=\"-238.3\" font-family=\"Helvetica,sans-Serif\" font-size=\"14.00\">class = P</text>\r\n</g>\r\n<!-- 4&#45;&gt;5 -->\r\n<g id=\"edge5\" class=\"edge\"><title>4&#45;&gt;5</title>\r\n<path fill=\"none\" stroke=\"black\" d=\"M117.897,-341.907C110.105,-330.652 101.636,-318.418 93.8043,-307.106\"/>\r\n<polygon fill=\"black\" stroke=\"black\" points=\"96.5315,-304.897 87.9617,-298.667 90.7762,-308.881 96.5315,-304.897\"/>\r\n</g>\r\n<!-- 6 -->\r\n<g id=\"node7\" class=\"node\"><title>6</title>\r\n<path fill=\"#e68742\" stroke=\"black\" d=\"M276,-306C276,-306 160,-306 160,-306 154,-306 148,-300 148,-294 148,-294 148,-235 148,-235 148,-229 154,-223 160,-223 160,-223 276,-223 276,-223 282,-223 288,-229 288,-235 288,-235 288,-294 288,-294 288,-300 282,-306 276,-306\"/>\r\n<text text-anchor=\"start\" x=\"156\" y=\"-290.8\" font-family=\"Helvetica,sans-Serif\" font-size=\"14.00\">Cap Shape ≤ 0.095</text>\r\n<text text-anchor=\"start\" x=\"180.5\" y=\"-275.8\" font-family=\"Helvetica,sans-Serif\" font-size=\"14.00\">gini = 0.081</text>\r\n<text text-anchor=\"start\" x=\"174.5\" y=\"-260.8\" font-family=\"Helvetica,sans-Serif\" font-size=\"14.00\">samples = 71</text>\r\n<text text-anchor=\"start\" x=\"173.5\" y=\"-245.8\" font-family=\"Helvetica,sans-Serif\" font-size=\"14.00\">value = [68, 3]</text>\r\n<text text-anchor=\"start\" x=\"188.5\" y=\"-230.8\" font-family=\"Helvetica,sans-Serif\" font-size=\"14.00\">class = P</text>\r\n</g>\r\n<!-- 4&#45;&gt;6 -->\r\n<g id=\"edge6\" class=\"edge\"><title>4&#45;&gt;6</title>\r\n<path fill=\"none\" stroke=\"black\" d=\"M170.98,-341.907C176.397,-333.105 182.183,-323.703 187.777,-314.612\"/>\r\n<polygon fill=\"black\" stroke=\"black\" points=\"190.804,-316.372 193.064,-306.021 184.842,-312.703 190.804,-316.372\"/>\r\n</g>\r\n<!-- 7 -->\r\n<g id=\"node8\" class=\"node\"><title>7</title>\r\n<path fill=\"#e78a47\" stroke=\"black\" d=\"M196.5,-179.5C196.5,-179.5 115.5,-179.5 115.5,-179.5 109.5,-179.5 103.5,-173.5 103.5,-167.5 103.5,-167.5 103.5,-123.5 103.5,-123.5 103.5,-117.5 109.5,-111.5 115.5,-111.5 115.5,-111.5 196.5,-111.5 196.5,-111.5 202.5,-111.5 208.5,-117.5 208.5,-123.5 208.5,-123.5 208.5,-167.5 208.5,-167.5 208.5,-173.5 202.5,-179.5 196.5,-179.5\"/>\r\n<text text-anchor=\"start\" x=\"118.5\" y=\"-164.3\" font-family=\"Helvetica,sans-Serif\" font-size=\"14.00\">gini = 0.127</text>\r\n<text text-anchor=\"start\" x=\"112.5\" y=\"-149.3\" font-family=\"Helvetica,sans-Serif\" font-size=\"14.00\">samples = 44</text>\r\n<text text-anchor=\"start\" x=\"111.5\" y=\"-134.3\" font-family=\"Helvetica,sans-Serif\" font-size=\"14.00\">value = [41, 3]</text>\r\n<text text-anchor=\"start\" x=\"126.5\" y=\"-119.3\" font-family=\"Helvetica,sans-Serif\" font-size=\"14.00\">class = P</text>\r\n</g>\r\n<!-- 6&#45;&gt;7 -->\r\n<g id=\"edge7\" class=\"edge\"><title>6&#45;&gt;7</title>\r\n<path fill=\"none\" stroke=\"black\" d=\"M196.489,-222.907C190.642,-211.873 184.296,-199.898 178.401,-188.773\"/>\r\n<polygon fill=\"black\" stroke=\"black\" points=\"181.351,-186.864 173.576,-179.667 175.165,-190.142 181.351,-186.864\"/>\r\n</g>\r\n<!-- 8 -->\r\n<g id=\"node9\" class=\"node\"><title>8</title>\r\n<path fill=\"#e58139\" stroke=\"black\" d=\"M319.5,-179.5C319.5,-179.5 238.5,-179.5 238.5,-179.5 232.5,-179.5 226.5,-173.5 226.5,-167.5 226.5,-167.5 226.5,-123.5 226.5,-123.5 226.5,-117.5 232.5,-111.5 238.5,-111.5 238.5,-111.5 319.5,-111.5 319.5,-111.5 325.5,-111.5 331.5,-117.5 331.5,-123.5 331.5,-123.5 331.5,-167.5 331.5,-167.5 331.5,-173.5 325.5,-179.5 319.5,-179.5\"/>\r\n<text text-anchor=\"start\" x=\"250\" y=\"-164.3\" font-family=\"Helvetica,sans-Serif\" font-size=\"14.00\">gini = 0.0</text>\r\n<text text-anchor=\"start\" x=\"235.5\" y=\"-149.3\" font-family=\"Helvetica,sans-Serif\" font-size=\"14.00\">samples = 27</text>\r\n<text text-anchor=\"start\" x=\"234.5\" y=\"-134.3\" font-family=\"Helvetica,sans-Serif\" font-size=\"14.00\">value = [27, 0]</text>\r\n<text text-anchor=\"start\" x=\"249.5\" y=\"-119.3\" font-family=\"Helvetica,sans-Serif\" font-size=\"14.00\">class = P</text>\r\n</g>\r\n<!-- 6&#45;&gt;8 -->\r\n<g id=\"edge8\" class=\"edge\"><title>6&#45;&gt;8</title>\r\n<path fill=\"none\" stroke=\"black\" d=\"M239.164,-222.907C244.917,-211.873 251.16,-199.898 256.96,-188.773\"/>\r\n<polygon fill=\"black\" stroke=\"black\" points=\"260.188,-190.152 261.708,-179.667 253.981,-186.916 260.188,-190.152\"/>\r\n</g>\r\n<!-- 11 -->\r\n<g id=\"node12\" class=\"node\"><title>11</title>\r\n<path fill=\"#e89253\" stroke=\"black\" d=\"M583,-544C583,-544 455,-544 455,-544 449,-544 443,-538 443,-532 443,-532 443,-473 443,-473 443,-467 449,-461 455,-461 455,-461 583,-461 583,-461 589,-461 595,-467 595,-473 595,-473 595,-532 595,-532 595,-538 589,-544 583,-544\"/>\r\n<text text-anchor=\"start\" x=\"451\" y=\"-528.8\" font-family=\"Helvetica,sans-Serif\" font-size=\"14.00\">Cap Surface ≤ &#45;0.266</text>\r\n<text text-anchor=\"start\" x=\"481.5\" y=\"-513.8\" font-family=\"Helvetica,sans-Serif\" font-size=\"14.00\">gini = 0.206</text>\r\n<text text-anchor=\"start\" x=\"471.5\" y=\"-498.8\" font-family=\"Helvetica,sans-Serif\" font-size=\"14.00\">samples = 308</text>\r\n<text text-anchor=\"start\" x=\"466\" y=\"-483.8\" font-family=\"Helvetica,sans-Serif\" font-size=\"14.00\">value = [272, 36]</text>\r\n<text text-anchor=\"start\" x=\"489.5\" y=\"-468.8\" font-family=\"Helvetica,sans-Serif\" font-size=\"14.00\">class = P</text>\r\n</g>\r\n<!-- 10&#45;&gt;11 -->\r\n<g id=\"edge11\" class=\"edge\"><title>10&#45;&gt;11</title>\r\n<path fill=\"none\" stroke=\"black\" d=\"M519,-579.907C519,-571.649 519,-562.864 519,-554.302\"/>\r\n<polygon fill=\"black\" stroke=\"black\" points=\"522.5,-554.021 519,-544.021 515.5,-554.021 522.5,-554.021\"/>\r\n</g>\r\n<!-- 16 -->\r\n<g id=\"node17\" class=\"node\"><title>16</title>\r\n<path fill=\"#cae5f8\" stroke=\"black\" d=\"M871,-544C871,-544 749,-544 749,-544 743,-544 737,-538 737,-532 737,-532 737,-473 737,-473 737,-467 743,-461 749,-461 749,-461 871,-461 871,-461 877,-461 883,-467 883,-473 883,-473 883,-532 883,-532 883,-538 877,-544 871,-544\"/>\r\n<text text-anchor=\"start\" x=\"748\" y=\"-528.8\" font-family=\"Helvetica,sans-Serif\" font-size=\"14.00\">Cap Shape ≤ 0.406</text>\r\n<text text-anchor=\"start\" x=\"772.5\" y=\"-513.8\" font-family=\"Helvetica,sans-Serif\" font-size=\"14.00\">gini = 0.488</text>\r\n<text text-anchor=\"start\" x=\"758.5\" y=\"-498.8\" font-family=\"Helvetica,sans-Serif\" font-size=\"14.00\">samples = 4335</text>\r\n<text text-anchor=\"start\" x=\"745\" y=\"-483.8\" font-family=\"Helvetica,sans-Serif\" font-size=\"14.00\">value = [1831, 2504]</text>\r\n<text text-anchor=\"start\" x=\"780.5\" y=\"-468.8\" font-family=\"Helvetica,sans-Serif\" font-size=\"14.00\">class = E</text>\r\n</g>\r\n<!-- 10&#45;&gt;16 -->\r\n<g id=\"edge16\" class=\"edge\"><title>10&#45;&gt;16</title>\r\n<path fill=\"none\" stroke=\"black\" d=\"M592.056,-591.127C633.221,-574.576 684.773,-553.849 727.403,-536.709\"/>\r\n<polygon fill=\"black\" stroke=\"black\" points=\"728.941,-539.863 736.914,-532.885 726.33,-533.368 728.941,-539.863\"/>\r\n</g>\r\n<!-- 12 -->\r\n<g id=\"node13\" class=\"node\"><title>12</title>\r\n<path fill=\"#399de5\" stroke=\"black\" d=\"M469.5,-417.5C469.5,-417.5 396.5,-417.5 396.5,-417.5 390.5,-417.5 384.5,-411.5 384.5,-405.5 384.5,-405.5 384.5,-361.5 384.5,-361.5 384.5,-355.5 390.5,-349.5 396.5,-349.5 396.5,-349.5 469.5,-349.5 469.5,-349.5 475.5,-349.5 481.5,-355.5 481.5,-361.5 481.5,-361.5 481.5,-405.5 481.5,-405.5 481.5,-411.5 475.5,-417.5 469.5,-417.5\"/>\r\n<text text-anchor=\"start\" x=\"404\" y=\"-402.3\" font-family=\"Helvetica,sans-Serif\" font-size=\"14.00\">gini = 0.0</text>\r\n<text text-anchor=\"start\" x=\"393.5\" y=\"-387.3\" font-family=\"Helvetica,sans-Serif\" font-size=\"14.00\">samples = 1</text>\r\n<text text-anchor=\"start\" x=\"392.5\" y=\"-372.3\" font-family=\"Helvetica,sans-Serif\" font-size=\"14.00\">value = [0, 1]</text>\r\n<text text-anchor=\"start\" x=\"403.5\" y=\"-357.3\" font-family=\"Helvetica,sans-Serif\" font-size=\"14.00\">class = E</text>\r\n</g>\r\n<!-- 11&#45;&gt;12 -->\r\n<g id=\"edge12\" class=\"edge\"><title>11&#45;&gt;12</title>\r\n<path fill=\"none\" stroke=\"black\" d=\"M489.163,-460.907C480.809,-449.542 471.721,-437.178 463.338,-425.774\"/>\r\n<polygon fill=\"black\" stroke=\"black\" points=\"466.122,-423.652 457.379,-417.667 460.482,-427.797 466.122,-423.652\"/>\r\n</g>\r\n<!-- 13 -->\r\n<g id=\"node14\" class=\"node\"><title>13</title>\r\n<path fill=\"#e89152\" stroke=\"black\" d=\"M636,-425C636,-425 512,-425 512,-425 506,-425 500,-419 500,-413 500,-413 500,-354 500,-354 500,-348 506,-342 512,-342 512,-342 636,-342 636,-342 642,-342 648,-348 648,-354 648,-354 648,-413 648,-413 648,-419 642,-425 636,-425\"/>\r\n<text text-anchor=\"start\" x=\"508\" y=\"-409.8\" font-family=\"Helvetica,sans-Serif\" font-size=\"14.00\">Cap Surface ≤ 0.547</text>\r\n<text text-anchor=\"start\" x=\"536.5\" y=\"-394.8\" font-family=\"Helvetica,sans-Serif\" font-size=\"14.00\">gini = 0.202</text>\r\n<text text-anchor=\"start\" x=\"526.5\" y=\"-379.8\" font-family=\"Helvetica,sans-Serif\" font-size=\"14.00\">samples = 307</text>\r\n<text text-anchor=\"start\" x=\"521\" y=\"-364.8\" font-family=\"Helvetica,sans-Serif\" font-size=\"14.00\">value = [272, 35]</text>\r\n<text text-anchor=\"start\" x=\"544.5\" y=\"-349.8\" font-family=\"Helvetica,sans-Serif\" font-size=\"14.00\">class = P</text>\r\n</g>\r\n<!-- 11&#45;&gt;13 -->\r\n<g id=\"edge13\" class=\"edge\"><title>11&#45;&gt;13</title>\r\n<path fill=\"none\" stroke=\"black\" d=\"M538.082,-460.907C542.135,-452.286 546.457,-443.09 550.649,-434.175\"/>\r\n<polygon fill=\"black\" stroke=\"black\" points=\"553.865,-435.56 554.952,-425.021 547.53,-432.582 553.865,-435.56\"/>\r\n</g>\r\n<!-- 14 -->\r\n<g id=\"node15\" class=\"node\"><title>14</title>\r\n<path fill=\"#e78d4b\" stroke=\"black\" d=\"M487,-298.5C487,-298.5 389,-298.5 389,-298.5 383,-298.5 377,-292.5 377,-286.5 377,-286.5 377,-242.5 377,-242.5 377,-236.5 383,-230.5 389,-230.5 389,-230.5 487,-230.5 487,-230.5 493,-230.5 499,-236.5 499,-242.5 499,-242.5 499,-286.5 499,-286.5 499,-292.5 493,-298.5 487,-298.5\"/>\r\n<text text-anchor=\"start\" x=\"400.5\" y=\"-283.3\" font-family=\"Helvetica,sans-Serif\" font-size=\"14.00\">gini = 0.155</text>\r\n<text text-anchor=\"start\" x=\"390.5\" y=\"-268.3\" font-family=\"Helvetica,sans-Serif\" font-size=\"14.00\">samples = 189</text>\r\n<text text-anchor=\"start\" x=\"385\" y=\"-253.3\" font-family=\"Helvetica,sans-Serif\" font-size=\"14.00\">value = [173, 16]</text>\r\n<text text-anchor=\"start\" x=\"408.5\" y=\"-238.3\" font-family=\"Helvetica,sans-Serif\" font-size=\"14.00\">class = P</text>\r\n</g>\r\n<!-- 13&#45;&gt;14 -->\r\n<g id=\"edge14\" class=\"edge\"><title>13&#45;&gt;14</title>\r\n<path fill=\"none\" stroke=\"black\" d=\"M526.815,-341.907C513.091,-330.101 498.115,-317.217 484.437,-305.45\"/>\r\n<polygon fill=\"black\" stroke=\"black\" points=\"486.416,-302.535 476.553,-298.667 481.851,-307.842 486.416,-302.535\"/>\r\n</g>\r\n<!-- 15 -->\r\n<g id=\"node16\" class=\"node\"><title>15</title>\r\n<path fill=\"#ea995f\" stroke=\"black\" d=\"M618.5,-298.5C618.5,-298.5 529.5,-298.5 529.5,-298.5 523.5,-298.5 517.5,-292.5 517.5,-286.5 517.5,-286.5 517.5,-242.5 517.5,-242.5 517.5,-236.5 523.5,-230.5 529.5,-230.5 529.5,-230.5 618.5,-230.5 618.5,-230.5 624.5,-230.5 630.5,-236.5 630.5,-242.5 630.5,-242.5 630.5,-286.5 630.5,-286.5 630.5,-292.5 624.5,-298.5 618.5,-298.5\"/>\r\n<text text-anchor=\"start\" x=\"540.5\" y=\"-283.3\" font-family=\"Helvetica,sans-Serif\" font-size=\"14.00\">gini = 0.27</text>\r\n<text text-anchor=\"start\" x=\"526.5\" y=\"-268.3\" font-family=\"Helvetica,sans-Serif\" font-size=\"14.00\">samples = 118</text>\r\n<text text-anchor=\"start\" x=\"525.5\" y=\"-253.3\" font-family=\"Helvetica,sans-Serif\" font-size=\"14.00\">value = [99, 19]</text>\r\n<text text-anchor=\"start\" x=\"544.5\" y=\"-238.3\" font-family=\"Helvetica,sans-Serif\" font-size=\"14.00\">class = P</text>\r\n</g>\r\n<!-- 13&#45;&gt;15 -->\r\n<g id=\"edge15\" class=\"edge\"><title>13&#45;&gt;15</title>\r\n<path fill=\"none\" stroke=\"black\" d=\"M574,-341.907C574,-331.204 574,-319.615 574,-308.776\"/>\r\n<polygon fill=\"black\" stroke=\"black\" points=\"577.5,-308.667 574,-298.667 570.5,-308.667 577.5,-308.667\"/>\r\n</g>\r\n<!-- 17 -->\r\n<g id=\"node18\" class=\"node\"><title>17</title>\r\n<path fill=\"#b0d8f5\" stroke=\"black\" d=\"M870,-425C870,-425 750,-425 750,-425 744,-425 738,-419 738,-413 738,-413 738,-354 738,-354 738,-348 744,-342 750,-342 750,-342 870,-342 870,-342 876,-342 882,-348 882,-354 882,-354 882,-413 882,-413 882,-419 876,-425 870,-425\"/>\r\n<text text-anchor=\"start\" x=\"746\" y=\"-409.8\" font-family=\"Helvetica,sans-Serif\" font-size=\"14.00\">Cap Shape ≤ &#45;0.529</text>\r\n<text text-anchor=\"start\" x=\"772.5\" y=\"-394.8\" font-family=\"Helvetica,sans-Serif\" font-size=\"14.00\">gini = 0.469</text>\r\n<text text-anchor=\"start\" x=\"758.5\" y=\"-379.8\" font-family=\"Helvetica,sans-Serif\" font-size=\"14.00\">samples = 2319</text>\r\n<text text-anchor=\"start\" x=\"749\" y=\"-364.8\" font-family=\"Helvetica,sans-Serif\" font-size=\"14.00\">value = [871, 1448]</text>\r\n<text text-anchor=\"start\" x=\"780.5\" y=\"-349.8\" font-family=\"Helvetica,sans-Serif\" font-size=\"14.00\">class = E</text>\r\n</g>\r\n<!-- 16&#45;&gt;17 -->\r\n<g id=\"edge17\" class=\"edge\"><title>16&#45;&gt;17</title>\r\n<path fill=\"none\" stroke=\"black\" d=\"M810,-460.907C810,-452.649 810,-443.864 810,-435.302\"/>\r\n<polygon fill=\"black\" stroke=\"black\" points=\"813.5,-435.021 810,-425.021 806.5,-435.021 813.5,-435.021\"/>\r\n</g>\r\n<!-- 30 -->\r\n<g id=\"node31\" class=\"node\"><title>30</title>\r\n<path fill=\"#edf6fd\" stroke=\"black\" d=\"M1108,-425C1108,-425 984,-425 984,-425 978,-425 972,-419 972,-413 972,-413 972,-354 972,-354 972,-348 978,-342 984,-342 984,-342 1108,-342 1108,-342 1114,-342 1120,-348 1120,-354 1120,-354 1120,-413 1120,-413 1120,-419 1114,-425 1108,-425\"/>\r\n<text text-anchor=\"start\" x=\"980\" y=\"-409.8\" font-family=\"Helvetica,sans-Serif\" font-size=\"14.00\">Cap Surface ≤ 0.547</text>\r\n<text text-anchor=\"start\" x=\"1008.5\" y=\"-394.8\" font-family=\"Helvetica,sans-Serif\" font-size=\"14.00\">gini = 0.499</text>\r\n<text text-anchor=\"start\" x=\"994.5\" y=\"-379.8\" font-family=\"Helvetica,sans-Serif\" font-size=\"14.00\">samples = 2016</text>\r\n<text text-anchor=\"start\" x=\"985\" y=\"-364.8\" font-family=\"Helvetica,sans-Serif\" font-size=\"14.00\">value = [960, 1056]</text>\r\n<text text-anchor=\"start\" x=\"1016.5\" y=\"-349.8\" font-family=\"Helvetica,sans-Serif\" font-size=\"14.00\">class = E</text>\r\n</g>\r\n<!-- 16&#45;&gt;30 -->\r\n<g id=\"edge30\" class=\"edge\"><title>16&#45;&gt;30</title>\r\n<path fill=\"none\" stroke=\"black\" d=\"M883.056,-465.282C908.243,-452.795 936.643,-438.715 962.594,-425.849\"/>\r\n<polygon fill=\"black\" stroke=\"black\" points=\"964.257,-428.932 971.662,-421.354 961.148,-422.66 964.257,-428.932\"/>\r\n</g>\r\n<!-- 18 -->\r\n<g id=\"node19\" class=\"node\"><title>18</title>\r\n<path fill=\"#cee7f9\" stroke=\"black\" d=\"M785,-306C785,-306 661,-306 661,-306 655,-306 649,-300 649,-294 649,-294 649,-235 649,-235 649,-229 655,-223 661,-223 661,-223 785,-223 785,-223 791,-223 797,-229 797,-235 797,-235 797,-294 797,-294 797,-300 791,-306 785,-306\"/>\r\n<text text-anchor=\"start\" x=\"657\" y=\"-290.8\" font-family=\"Helvetica,sans-Serif\" font-size=\"14.00\">Cap Surface ≤ 0.547</text>\r\n<text text-anchor=\"start\" x=\"689.5\" y=\"-275.8\" font-family=\"Helvetica,sans-Serif\" font-size=\"14.00\">gini = 0.49</text>\r\n<text text-anchor=\"start\" x=\"671.5\" y=\"-260.8\" font-family=\"Helvetica,sans-Serif\" font-size=\"14.00\">samples = 1709</text>\r\n<text text-anchor=\"start\" x=\"666\" y=\"-245.8\" font-family=\"Helvetica,sans-Serif\" font-size=\"14.00\">value = [735, 974]</text>\r\n<text text-anchor=\"start\" x=\"693.5\" y=\"-230.8\" font-family=\"Helvetica,sans-Serif\" font-size=\"14.00\">class = E</text>\r\n</g>\r\n<!-- 17&#45;&gt;18 -->\r\n<g id=\"edge18\" class=\"edge\"><title>17&#45;&gt;18</title>\r\n<path fill=\"none\" stroke=\"black\" d=\"M779.816,-341.907C773.135,-332.923 765.991,-323.315 759.101,-314.05\"/>\r\n<polygon fill=\"black\" stroke=\"black\" points=\"761.907,-311.957 753.131,-306.021 756.289,-316.134 761.907,-311.957\"/>\r\n</g>\r\n<!-- 25 -->\r\n<g id=\"node26\" class=\"node\"><title>25</title>\r\n<path fill=\"#72b9ec\" stroke=\"black\" d=\"M951,-306C951,-306 827,-306 827,-306 821,-306 815,-300 815,-294 815,-294 815,-235 815,-235 815,-229 821,-223 827,-223 827,-223 951,-223 951,-223 957,-223 963,-229 963,-235 963,-235 963,-294 963,-294 963,-300 957,-306 951,-306\"/>\r\n<text text-anchor=\"start\" x=\"823\" y=\"-290.8\" font-family=\"Helvetica,sans-Serif\" font-size=\"14.00\">Cap Surface ≤ 0.547</text>\r\n<text text-anchor=\"start\" x=\"851.5\" y=\"-275.8\" font-family=\"Helvetica,sans-Serif\" font-size=\"14.00\">gini = 0.346</text>\r\n<text text-anchor=\"start\" x=\"841.5\" y=\"-260.8\" font-family=\"Helvetica,sans-Serif\" font-size=\"14.00\">samples = 610</text>\r\n<text text-anchor=\"start\" x=\"832\" y=\"-245.8\" font-family=\"Helvetica,sans-Serif\" font-size=\"14.00\">value = [136, 474]</text>\r\n<text text-anchor=\"start\" x=\"859.5\" y=\"-230.8\" font-family=\"Helvetica,sans-Serif\" font-size=\"14.00\">class = E</text>\r\n</g>\r\n<!-- 17&#45;&gt;25 -->\r\n<g id=\"edge25\" class=\"edge\"><title>17&#45;&gt;25</title>\r\n<path fill=\"none\" stroke=\"black\" d=\"M837.409,-341.907C843.414,-333.014 849.831,-323.509 856.029,-314.331\"/>\r\n<polygon fill=\"black\" stroke=\"black\" points=\"858.944,-316.267 861.64,-306.021 853.143,-312.35 858.944,-316.267\"/>\r\n</g>\r\n<!-- 19 -->\r\n<g id=\"node20\" class=\"node\"><title>19</title>\r\n<path fill=\"#b2d9f5\" stroke=\"black\" d=\"M557,-187C557,-187 429,-187 429,-187 423,-187 417,-181 417,-175 417,-175 417,-116 417,-116 417,-110 423,-104 429,-104 429,-104 557,-104 557,-104 563,-104 569,-110 569,-116 569,-116 569,-175 569,-175 569,-181 563,-187 557,-187\"/>\r\n<text text-anchor=\"start\" x=\"425\" y=\"-171.8\" font-family=\"Helvetica,sans-Serif\" font-size=\"14.00\">Cap Surface ≤ &#45;0.266</text>\r\n<text text-anchor=\"start\" x=\"455.5\" y=\"-156.8\" font-family=\"Helvetica,sans-Serif\" font-size=\"14.00\">gini = 0.471</text>\r\n<text text-anchor=\"start\" x=\"445.5\" y=\"-141.8\" font-family=\"Helvetica,sans-Serif\" font-size=\"14.00\">samples = 644</text>\r\n<text text-anchor=\"start\" x=\"436\" y=\"-126.8\" font-family=\"Helvetica,sans-Serif\" font-size=\"14.00\">value = [244, 400]</text>\r\n<text text-anchor=\"start\" x=\"463.5\" y=\"-111.8\" font-family=\"Helvetica,sans-Serif\" font-size=\"14.00\">class = E</text>\r\n</g>\r\n<!-- 18&#45;&gt;19 -->\r\n<g id=\"edge19\" class=\"edge\"><title>18&#45;&gt;19</title>\r\n<path fill=\"none\" stroke=\"black\" d=\"M648.961,-225.836C626.47,-214.395 601.575,-201.731 578.4,-189.943\"/>\r\n<polygon fill=\"black\" stroke=\"black\" points=\"579.772,-186.714 569.272,-185.299 576.598,-192.953 579.772,-186.714\"/>\r\n</g>\r\n<!-- 22 -->\r\n<g id=\"node23\" class=\"node\"><title>22</title>\r\n<path fill=\"#e2f1fb\" stroke=\"black\" d=\"M783,-187C783,-187 663,-187 663,-187 657,-187 651,-181 651,-175 651,-175 651,-116 651,-116 651,-110 657,-104 663,-104 663,-104 783,-104 783,-104 789,-104 795,-110 795,-116 795,-116 795,-175 795,-175 795,-181 789,-187 783,-187\"/>\r\n<text text-anchor=\"start\" x=\"659\" y=\"-171.8\" font-family=\"Helvetica,sans-Serif\" font-size=\"14.00\">Cap Shape ≤ &#45;1.152</text>\r\n<text text-anchor=\"start\" x=\"685.5\" y=\"-156.8\" font-family=\"Helvetica,sans-Serif\" font-size=\"14.00\">gini = 0.497</text>\r\n<text text-anchor=\"start\" x=\"671.5\" y=\"-141.8\" font-family=\"Helvetica,sans-Serif\" font-size=\"14.00\">samples = 1065</text>\r\n<text text-anchor=\"start\" x=\"666\" y=\"-126.8\" font-family=\"Helvetica,sans-Serif\" font-size=\"14.00\">value = [491, 574]</text>\r\n<text text-anchor=\"start\" x=\"693.5\" y=\"-111.8\" font-family=\"Helvetica,sans-Serif\" font-size=\"14.00\">class = E</text>\r\n</g>\r\n<!-- 18&#45;&gt;22 -->\r\n<g id=\"edge22\" class=\"edge\"><title>18&#45;&gt;22</title>\r\n<path fill=\"none\" stroke=\"black\" d=\"M723,-222.907C723,-214.649 723,-205.864 723,-197.302\"/>\r\n<polygon fill=\"black\" stroke=\"black\" points=\"726.5,-197.021 723,-187.021 719.5,-197.021 726.5,-197.021\"/>\r\n</g>\r\n<!-- 20 -->\r\n<g id=\"node21\" class=\"node\"><title>20</title>\r\n<path fill=\"#399de5\" stroke=\"black\" d=\"M397.5,-68C397.5,-68 324.5,-68 324.5,-68 318.5,-68 312.5,-62 312.5,-56 312.5,-56 312.5,-12 312.5,-12 312.5,-6 318.5,-0 324.5,-0 324.5,-0 397.5,-0 397.5,-0 403.5,-0 409.5,-6 409.5,-12 409.5,-12 409.5,-56 409.5,-56 409.5,-62 403.5,-68 397.5,-68\"/>\r\n<text text-anchor=\"start\" x=\"332\" y=\"-52.8\" font-family=\"Helvetica,sans-Serif\" font-size=\"14.00\">gini = 0.0</text>\r\n<text text-anchor=\"start\" x=\"321.5\" y=\"-37.8\" font-family=\"Helvetica,sans-Serif\" font-size=\"14.00\">samples = 1</text>\r\n<text text-anchor=\"start\" x=\"320.5\" y=\"-22.8\" font-family=\"Helvetica,sans-Serif\" font-size=\"14.00\">value = [0, 1]</text>\r\n<text text-anchor=\"start\" x=\"331.5\" y=\"-7.8\" font-family=\"Helvetica,sans-Serif\" font-size=\"14.00\">class = E</text>\r\n</g>\r\n<!-- 19&#45;&gt;20 -->\r\n<g id=\"edge20\" class=\"edge\"><title>19&#45;&gt;20</title>\r\n<path fill=\"none\" stroke=\"black\" d=\"M443.848,-103.726C432.413,-94.2406 420.255,-84.1551 408.877,-74.7159\"/>\r\n<polygon fill=\"black\" stroke=\"black\" points=\"411.073,-71.9905 401.142,-68.2996 406.604,-77.3781 411.073,-71.9905\"/>\r\n</g>\r\n<!-- 21 -->\r\n<g id=\"node22\" class=\"node\"><title>21</title>\r\n<path fill=\"#b2d9f5\" stroke=\"black\" d=\"M546,-68C546,-68 440,-68 440,-68 434,-68 428,-62 428,-56 428,-56 428,-12 428,-12 428,-6 434,-0 440,-0 440,-0 546,-0 546,-0 552,-0 558,-6 558,-12 558,-12 558,-56 558,-56 558,-62 552,-68 546,-68\"/>\r\n<text text-anchor=\"start\" x=\"455.5\" y=\"-52.8\" font-family=\"Helvetica,sans-Serif\" font-size=\"14.00\">gini = 0.471</text>\r\n<text text-anchor=\"start\" x=\"445.5\" y=\"-37.8\" font-family=\"Helvetica,sans-Serif\" font-size=\"14.00\">samples = 643</text>\r\n<text text-anchor=\"start\" x=\"436\" y=\"-22.8\" font-family=\"Helvetica,sans-Serif\" font-size=\"14.00\">value = [244, 399]</text>\r\n<text text-anchor=\"start\" x=\"463.5\" y=\"-7.8\" font-family=\"Helvetica,sans-Serif\" font-size=\"14.00\">class = E</text>\r\n</g>\r\n<!-- 19&#45;&gt;21 -->\r\n<g id=\"edge21\" class=\"edge\"><title>19&#45;&gt;21</title>\r\n<path fill=\"none\" stroke=\"black\" d=\"M493,-103.726C493,-95.5175 493,-86.8595 493,-78.56\"/>\r\n<polygon fill=\"black\" stroke=\"black\" points=\"496.5,-78.2996 493,-68.2996 489.5,-78.2996 496.5,-78.2996\"/>\r\n</g>\r\n<!-- 23 -->\r\n<g id=\"node24\" class=\"node\"><title>23</title>\r\n<path fill=\"#399de5\" stroke=\"black\" d=\"M661.5,-68C661.5,-68 588.5,-68 588.5,-68 582.5,-68 576.5,-62 576.5,-56 576.5,-56 576.5,-12 576.5,-12 576.5,-6 582.5,-0 588.5,-0 588.5,-0 661.5,-0 661.5,-0 667.5,-0 673.5,-6 673.5,-12 673.5,-12 673.5,-56 673.5,-56 673.5,-62 667.5,-68 661.5,-68\"/>\r\n<text text-anchor=\"start\" x=\"596\" y=\"-52.8\" font-family=\"Helvetica,sans-Serif\" font-size=\"14.00\">gini = 0.0</text>\r\n<text text-anchor=\"start\" x=\"585.5\" y=\"-37.8\" font-family=\"Helvetica,sans-Serif\" font-size=\"14.00\">samples = 1</text>\r\n<text text-anchor=\"start\" x=\"584.5\" y=\"-22.8\" font-family=\"Helvetica,sans-Serif\" font-size=\"14.00\">value = [0, 1]</text>\r\n<text text-anchor=\"start\" x=\"595.5\" y=\"-7.8\" font-family=\"Helvetica,sans-Serif\" font-size=\"14.00\">class = E</text>\r\n</g>\r\n<!-- 22&#45;&gt;23 -->\r\n<g id=\"edge23\" class=\"edge\"><title>22&#45;&gt;23</title>\r\n<path fill=\"none\" stroke=\"black\" d=\"M686.508,-103.726C678.345,-94.6054 669.686,-84.93 661.522,-75.8078\"/>\r\n<polygon fill=\"black\" stroke=\"black\" points=\"664.079,-73.417 654.802,-68.2996 658.863,-78.0853 664.079,-73.417\"/>\r\n</g>\r\n<!-- 24 -->\r\n<g id=\"node25\" class=\"node\"><title>24</title>\r\n<path fill=\"#e3f1fb\" stroke=\"black\" d=\"M810,-68C810,-68 704,-68 704,-68 698,-68 692,-62 692,-56 692,-56 692,-12 692,-12 692,-6 698,-0 704,-0 704,-0 810,-0 810,-0 816,-0 822,-6 822,-12 822,-12 822,-56 822,-56 822,-62 816,-68 810,-68\"/>\r\n<text text-anchor=\"start\" x=\"719.5\" y=\"-52.8\" font-family=\"Helvetica,sans-Serif\" font-size=\"14.00\">gini = 0.497</text>\r\n<text text-anchor=\"start\" x=\"705.5\" y=\"-37.8\" font-family=\"Helvetica,sans-Serif\" font-size=\"14.00\">samples = 1064</text>\r\n<text text-anchor=\"start\" x=\"700\" y=\"-22.8\" font-family=\"Helvetica,sans-Serif\" font-size=\"14.00\">value = [491, 573]</text>\r\n<text text-anchor=\"start\" x=\"727.5\" y=\"-7.8\" font-family=\"Helvetica,sans-Serif\" font-size=\"14.00\">class = E</text>\r\n</g>\r\n<!-- 22&#45;&gt;24 -->\r\n<g id=\"edge24\" class=\"edge\"><title>22&#45;&gt;24</title>\r\n<path fill=\"none\" stroke=\"black\" d=\"M735.66,-103.726C738.266,-95.3351 741.017,-86.4745 743.646,-78.0072\"/>\r\n<polygon fill=\"black\" stroke=\"black\" points=\"747.038,-78.8877 746.66,-68.2996 740.352,-76.8119 747.038,-78.8877\"/>\r\n</g>\r\n<!-- 26 -->\r\n<g id=\"node27\" class=\"node\"><title>26</title>\r\n<path fill=\"#8fc8f0\" stroke=\"black\" d=\"M953,-187C953,-187 825,-187 825,-187 819,-187 813,-181 813,-175 813,-175 813,-116 813,-116 813,-110 819,-104 825,-104 825,-104 953,-104 953,-104 959,-104 965,-110 965,-116 965,-116 965,-175 965,-175 965,-181 959,-187 953,-187\"/>\r\n<text text-anchor=\"start\" x=\"821\" y=\"-171.8\" font-family=\"Helvetica,sans-Serif\" font-size=\"14.00\">Cap Surface ≤ &#45;0.266</text>\r\n<text text-anchor=\"start\" x=\"851.5\" y=\"-156.8\" font-family=\"Helvetica,sans-Serif\" font-size=\"14.00\">gini = 0.423</text>\r\n<text text-anchor=\"start\" x=\"841.5\" y=\"-141.8\" font-family=\"Helvetica,sans-Serif\" font-size=\"14.00\">samples = 336</text>\r\n<text text-anchor=\"start\" x=\"832\" y=\"-126.8\" font-family=\"Helvetica,sans-Serif\" font-size=\"14.00\">value = [102, 234]</text>\r\n<text text-anchor=\"start\" x=\"859.5\" y=\"-111.8\" font-family=\"Helvetica,sans-Serif\" font-size=\"14.00\">class = E</text>\r\n</g>\r\n<!-- 25&#45;&gt;26 -->\r\n<g id=\"edge26\" class=\"edge\"><title>25&#45;&gt;26</title>\r\n<path fill=\"none\" stroke=\"black\" d=\"M889,-222.907C889,-214.649 889,-205.864 889,-197.302\"/>\r\n<polygon fill=\"black\" stroke=\"black\" points=\"892.5,-197.021 889,-187.021 885.5,-197.021 892.5,-197.021\"/>\r\n</g>\r\n<!-- 29 -->\r\n<g id=\"node30\" class=\"node\"><title>29</title>\r\n<path fill=\"#55abe9\" stroke=\"black\" d=\"M1093,-179.5C1093,-179.5 995,-179.5 995,-179.5 989,-179.5 983,-173.5 983,-167.5 983,-167.5 983,-123.5 983,-123.5 983,-117.5 989,-111.5 995,-111.5 995,-111.5 1093,-111.5 1093,-111.5 1099,-111.5 1105,-117.5 1105,-123.5 1105,-123.5 1105,-167.5 1105,-167.5 1105,-173.5 1099,-179.5 1093,-179.5\"/>\r\n<text text-anchor=\"start\" x=\"1006.5\" y=\"-164.3\" font-family=\"Helvetica,sans-Serif\" font-size=\"14.00\">gini = 0.217</text>\r\n<text text-anchor=\"start\" x=\"996.5\" y=\"-149.3\" font-family=\"Helvetica,sans-Serif\" font-size=\"14.00\">samples = 274</text>\r\n<text text-anchor=\"start\" x=\"991\" y=\"-134.3\" font-family=\"Helvetica,sans-Serif\" font-size=\"14.00\">value = [34, 240]</text>\r\n<text text-anchor=\"start\" x=\"1014.5\" y=\"-119.3\" font-family=\"Helvetica,sans-Serif\" font-size=\"14.00\">class = E</text>\r\n</g>\r\n<!-- 25&#45;&gt;29 -->\r\n<g id=\"edge29\" class=\"edge\"><title>25&#45;&gt;29</title>\r\n<path fill=\"none\" stroke=\"black\" d=\"M942.776,-222.907C958.71,-210.88 976.125,-197.735 991.948,-185.791\"/>\r\n<polygon fill=\"black\" stroke=\"black\" points=\"994.188,-188.485 1000.06,-179.667 989.971,-182.898 994.188,-188.485\"/>\r\n</g>\r\n<!-- 27 -->\r\n<g id=\"node28\" class=\"node\"><title>27</title>\r\n<path fill=\"#399de5\" stroke=\"black\" d=\"M925.5,-68C925.5,-68 852.5,-68 852.5,-68 846.5,-68 840.5,-62 840.5,-56 840.5,-56 840.5,-12 840.5,-12 840.5,-6 846.5,-0 852.5,-0 852.5,-0 925.5,-0 925.5,-0 931.5,-0 937.5,-6 937.5,-12 937.5,-12 937.5,-56 937.5,-56 937.5,-62 931.5,-68 925.5,-68\"/>\r\n<text text-anchor=\"start\" x=\"860\" y=\"-52.8\" font-family=\"Helvetica,sans-Serif\" font-size=\"14.00\">gini = 0.0</text>\r\n<text text-anchor=\"start\" x=\"849.5\" y=\"-37.8\" font-family=\"Helvetica,sans-Serif\" font-size=\"14.00\">samples = 1</text>\r\n<text text-anchor=\"start\" x=\"848.5\" y=\"-22.8\" font-family=\"Helvetica,sans-Serif\" font-size=\"14.00\">value = [0, 1]</text>\r\n<text text-anchor=\"start\" x=\"859.5\" y=\"-7.8\" font-family=\"Helvetica,sans-Serif\" font-size=\"14.00\">class = E</text>\r\n</g>\r\n<!-- 26&#45;&gt;27 -->\r\n<g id=\"edge27\" class=\"edge\"><title>26&#45;&gt;27</title>\r\n<path fill=\"none\" stroke=\"black\" d=\"M889,-103.726C889,-95.5175 889,-86.8595 889,-78.56\"/>\r\n<polygon fill=\"black\" stroke=\"black\" points=\"892.5,-78.2996 889,-68.2996 885.5,-78.2996 892.5,-78.2996\"/>\r\n</g>\r\n<!-- 28 -->\r\n<g id=\"node29\" class=\"node\"><title>28</title>\r\n<path fill=\"#90c8f0\" stroke=\"black\" d=\"M1074,-68C1074,-68 968,-68 968,-68 962,-68 956,-62 956,-56 956,-56 956,-12 956,-12 956,-6 962,-0 968,-0 968,-0 1074,-0 1074,-0 1080,-0 1086,-6 1086,-12 1086,-12 1086,-56 1086,-56 1086,-62 1080,-68 1074,-68\"/>\r\n<text text-anchor=\"start\" x=\"983.5\" y=\"-52.8\" font-family=\"Helvetica,sans-Serif\" font-size=\"14.00\">gini = 0.424</text>\r\n<text text-anchor=\"start\" x=\"973.5\" y=\"-37.8\" font-family=\"Helvetica,sans-Serif\" font-size=\"14.00\">samples = 335</text>\r\n<text text-anchor=\"start\" x=\"964\" y=\"-22.8\" font-family=\"Helvetica,sans-Serif\" font-size=\"14.00\">value = [102, 233]</text>\r\n<text text-anchor=\"start\" x=\"991.5\" y=\"-7.8\" font-family=\"Helvetica,sans-Serif\" font-size=\"14.00\">class = E</text>\r\n</g>\r\n<!-- 26&#45;&gt;28 -->\r\n<g id=\"edge28\" class=\"edge\"><title>26&#45;&gt;28</title>\r\n<path fill=\"none\" stroke=\"black\" d=\"M938.152,-103.726C949.587,-94.2406 961.745,-84.1551 973.123,-74.7159\"/>\r\n<polygon fill=\"black\" stroke=\"black\" points=\"975.396,-77.3781 980.858,-68.2996 970.927,-71.9905 975.396,-77.3781\"/>\r\n</g>\r\n<!-- 31 -->\r\n<g id=\"node32\" class=\"node\"><title>31</title>\r\n<path fill=\"#d3e9f9\" stroke=\"black\" d=\"M1099,-298.5C1099,-298.5 993,-298.5 993,-298.5 987,-298.5 981,-292.5 981,-286.5 981,-286.5 981,-242.5 981,-242.5 981,-236.5 987,-230.5 993,-230.5 993,-230.5 1099,-230.5 1099,-230.5 1105,-230.5 1111,-236.5 1111,-242.5 1111,-242.5 1111,-286.5 1111,-286.5 1111,-292.5 1105,-298.5 1099,-298.5\"/>\r\n<text text-anchor=\"start\" x=\"1008.5\" y=\"-283.3\" font-family=\"Helvetica,sans-Serif\" font-size=\"14.00\">gini = 0.492</text>\r\n<text text-anchor=\"start\" x=\"998.5\" y=\"-268.3\" font-family=\"Helvetica,sans-Serif\" font-size=\"14.00\">samples = 879</text>\r\n<text text-anchor=\"start\" x=\"989\" y=\"-253.3\" font-family=\"Helvetica,sans-Serif\" font-size=\"14.00\">value = [385, 494]</text>\r\n<text text-anchor=\"start\" x=\"1016.5\" y=\"-238.3\" font-family=\"Helvetica,sans-Serif\" font-size=\"14.00\">class = E</text>\r\n</g>\r\n<!-- 30&#45;&gt;31 -->\r\n<g id=\"edge31\" class=\"edge\"><title>30&#45;&gt;31</title>\r\n<path fill=\"none\" stroke=\"black\" d=\"M1046,-341.907C1046,-331.204 1046,-319.615 1046,-308.776\"/>\r\n<polygon fill=\"black\" stroke=\"black\" points=\"1049.5,-308.667 1046,-298.667 1042.5,-308.667 1049.5,-308.667\"/>\r\n</g>\r\n<!-- 32 -->\r\n<g id=\"node33\" class=\"node\"><title>32</title>\r\n<path fill=\"#fefcfb\" stroke=\"black\" d=\"M1247,-298.5C1247,-298.5 1141,-298.5 1141,-298.5 1135,-298.5 1129,-292.5 1129,-286.5 1129,-286.5 1129,-242.5 1129,-242.5 1129,-236.5 1135,-230.5 1141,-230.5 1141,-230.5 1247,-230.5 1247,-230.5 1253,-230.5 1259,-236.5 1259,-242.5 1259,-242.5 1259,-286.5 1259,-286.5 1259,-292.5 1253,-298.5 1247,-298.5\"/>\r\n<text text-anchor=\"start\" x=\"1165\" y=\"-283.3\" font-family=\"Helvetica,sans-Serif\" font-size=\"14.00\">gini = 0.5</text>\r\n<text text-anchor=\"start\" x=\"1142.5\" y=\"-268.3\" font-family=\"Helvetica,sans-Serif\" font-size=\"14.00\">samples = 1137</text>\r\n<text text-anchor=\"start\" x=\"1137\" y=\"-253.3\" font-family=\"Helvetica,sans-Serif\" font-size=\"14.00\">value = [575, 562]</text>\r\n<text text-anchor=\"start\" x=\"1164.5\" y=\"-238.3\" font-family=\"Helvetica,sans-Serif\" font-size=\"14.00\">class = P</text>\r\n</g>\r\n<!-- 30&#45;&gt;32 -->\r\n<g id=\"edge32\" class=\"edge\"><title>30&#45;&gt;32</title>\r\n<path fill=\"none\" stroke=\"black\" d=\"M1097.35,-341.907C1112.42,-329.99 1128.89,-316.976 1143.88,-305.12\"/>\r\n<polygon fill=\"black\" stroke=\"black\" points=\"1146.37,-307.614 1152.05,-298.667 1142.03,-302.123 1146.37,-307.614\"/>\r\n</g>\r\n</g>\r\n</svg>\r\n",
      "text/plain": [
       "<graphviz.files.Source at 0x2ccc86fdf10>"
      ]
     },
     "execution_count": 20,
     "metadata": {},
     "output_type": "execute_result"
    }
   ],
   "source": [
    "import graphviz\n",
    "from sklearn import tree\n",
    "\n",
    "dot_data = tree.export_graphviz(\n",
    "    dt.fit(X_train, y_train), \n",
    "    out_file=None,\n",
    "    feature_names=['Cap Shape', 'Cap Surface'],\n",
    "    class_names=['P', 'E'],\n",
    "    filled=True, rounded=True, \n",
    "    special_characters=True)\n",
    "graph = graphviz.Source(dot_data)\n",
    "graph"
   ]
  },
  {
   "cell_type": "code",
   "execution_count": null,
   "metadata": {},
   "outputs": [],
   "source": []
  }
 ],
 "metadata": {
  "kernelspec": {
   "display_name": "Python 3.8.8 ('base')",
   "language": "python",
   "name": "python3"
  },
  "language_info": {
   "codemirror_mode": {
    "name": "ipython",
    "version": 3
   },
   "file_extension": ".py",
   "mimetype": "text/x-python",
   "name": "python",
   "nbconvert_exporter": "python",
   "pygments_lexer": "ipython3",
   "version": "3.8.8"
  },
  "orig_nbformat": 4,
  "vscode": {
   "interpreter": {
    "hash": "52d90d3cc821dd0beedd6e719dbdecc722c226b9d90ed1b663c34e1877f1142e"
   }
  }
 },
 "nbformat": 4,
 "nbformat_minor": 2
}
