{
 "cells": [
  {
   "cell_type": "markdown",
   "metadata": {},
   "source": [
    "# Getting started"
   ]
  },
  {
   "cell_type": "code",
   "execution_count": 1,
   "metadata": {},
   "outputs": [],
   "source": [
    "import numpy as np\n",
    "import pandas as pd\n",
    "import matplotlib.pyplot as plt\n",
    "import seaborn as sns\n",
    "\n",
    "from sklearn.preprocessing import LabelEncoder\n",
    "from sklearn.preprocessing import StandardScaler\n",
    "from sklearn.model_selection import train_test_split"
   ]
  },
  {
   "cell_type": "code",
   "execution_count": 3,
   "metadata": {},
   "outputs": [],
   "source": [
    "data = pd.read_csv(\"./dataset/mushrooms.csv\")"
   ]
  },
  {
   "cell_type": "code",
   "execution_count": 4,
   "metadata": {},
   "outputs": [
    {
     "data": {
      "text/html": [
       "<div>\n",
       "<style scoped>\n",
       "    .dataframe tbody tr th:only-of-type {\n",
       "        vertical-align: middle;\n",
       "    }\n",
       "\n",
       "    .dataframe tbody tr th {\n",
       "        vertical-align: top;\n",
       "    }\n",
       "\n",
       "    .dataframe thead th {\n",
       "        text-align: right;\n",
       "    }\n",
       "</style>\n",
       "<table border=\"1\" class=\"dataframe\">\n",
       "  <thead>\n",
       "    <tr style=\"text-align: right;\">\n",
       "      <th></th>\n",
       "      <th>class</th>\n",
       "      <th>cap-shape</th>\n",
       "      <th>cap-surface</th>\n",
       "      <th>cap-color</th>\n",
       "      <th>bruises</th>\n",
       "      <th>odor</th>\n",
       "      <th>gill-attachment</th>\n",
       "      <th>gill-spacing</th>\n",
       "      <th>gill-size</th>\n",
       "      <th>gill-color</th>\n",
       "      <th>...</th>\n",
       "      <th>stalk-surface-below-ring</th>\n",
       "      <th>stalk-color-above-ring</th>\n",
       "      <th>stalk-color-below-ring</th>\n",
       "      <th>veil-type</th>\n",
       "      <th>veil-color</th>\n",
       "      <th>ring-number</th>\n",
       "      <th>ring-type</th>\n",
       "      <th>spore-print-color</th>\n",
       "      <th>population</th>\n",
       "      <th>habitat</th>\n",
       "    </tr>\n",
       "  </thead>\n",
       "  <tbody>\n",
       "    <tr>\n",
       "      <th>0</th>\n",
       "      <td>p</td>\n",
       "      <td>x</td>\n",
       "      <td>s</td>\n",
       "      <td>n</td>\n",
       "      <td>t</td>\n",
       "      <td>p</td>\n",
       "      <td>f</td>\n",
       "      <td>c</td>\n",
       "      <td>n</td>\n",
       "      <td>k</td>\n",
       "      <td>...</td>\n",
       "      <td>s</td>\n",
       "      <td>w</td>\n",
       "      <td>w</td>\n",
       "      <td>p</td>\n",
       "      <td>w</td>\n",
       "      <td>o</td>\n",
       "      <td>p</td>\n",
       "      <td>k</td>\n",
       "      <td>s</td>\n",
       "      <td>u</td>\n",
       "    </tr>\n",
       "    <tr>\n",
       "      <th>1</th>\n",
       "      <td>e</td>\n",
       "      <td>x</td>\n",
       "      <td>s</td>\n",
       "      <td>y</td>\n",
       "      <td>t</td>\n",
       "      <td>a</td>\n",
       "      <td>f</td>\n",
       "      <td>c</td>\n",
       "      <td>b</td>\n",
       "      <td>k</td>\n",
       "      <td>...</td>\n",
       "      <td>s</td>\n",
       "      <td>w</td>\n",
       "      <td>w</td>\n",
       "      <td>p</td>\n",
       "      <td>w</td>\n",
       "      <td>o</td>\n",
       "      <td>p</td>\n",
       "      <td>n</td>\n",
       "      <td>n</td>\n",
       "      <td>g</td>\n",
       "    </tr>\n",
       "    <tr>\n",
       "      <th>2</th>\n",
       "      <td>e</td>\n",
       "      <td>b</td>\n",
       "      <td>s</td>\n",
       "      <td>w</td>\n",
       "      <td>t</td>\n",
       "      <td>l</td>\n",
       "      <td>f</td>\n",
       "      <td>c</td>\n",
       "      <td>b</td>\n",
       "      <td>n</td>\n",
       "      <td>...</td>\n",
       "      <td>s</td>\n",
       "      <td>w</td>\n",
       "      <td>w</td>\n",
       "      <td>p</td>\n",
       "      <td>w</td>\n",
       "      <td>o</td>\n",
       "      <td>p</td>\n",
       "      <td>n</td>\n",
       "      <td>n</td>\n",
       "      <td>m</td>\n",
       "    </tr>\n",
       "    <tr>\n",
       "      <th>3</th>\n",
       "      <td>p</td>\n",
       "      <td>x</td>\n",
       "      <td>y</td>\n",
       "      <td>w</td>\n",
       "      <td>t</td>\n",
       "      <td>p</td>\n",
       "      <td>f</td>\n",
       "      <td>c</td>\n",
       "      <td>n</td>\n",
       "      <td>n</td>\n",
       "      <td>...</td>\n",
       "      <td>s</td>\n",
       "      <td>w</td>\n",
       "      <td>w</td>\n",
       "      <td>p</td>\n",
       "      <td>w</td>\n",
       "      <td>o</td>\n",
       "      <td>p</td>\n",
       "      <td>k</td>\n",
       "      <td>s</td>\n",
       "      <td>u</td>\n",
       "    </tr>\n",
       "    <tr>\n",
       "      <th>4</th>\n",
       "      <td>e</td>\n",
       "      <td>x</td>\n",
       "      <td>s</td>\n",
       "      <td>g</td>\n",
       "      <td>f</td>\n",
       "      <td>n</td>\n",
       "      <td>f</td>\n",
       "      <td>w</td>\n",
       "      <td>b</td>\n",
       "      <td>k</td>\n",
       "      <td>...</td>\n",
       "      <td>s</td>\n",
       "      <td>w</td>\n",
       "      <td>w</td>\n",
       "      <td>p</td>\n",
       "      <td>w</td>\n",
       "      <td>o</td>\n",
       "      <td>e</td>\n",
       "      <td>n</td>\n",
       "      <td>a</td>\n",
       "      <td>g</td>\n",
       "    </tr>\n",
       "  </tbody>\n",
       "</table>\n",
       "<p>5 rows × 23 columns</p>\n",
       "</div>"
      ],
      "text/plain": [
       "  class cap-shape cap-surface cap-color bruises odor gill-attachment  \\\n",
       "0     p         x           s         n       t    p               f   \n",
       "1     e         x           s         y       t    a               f   \n",
       "2     e         b           s         w       t    l               f   \n",
       "3     p         x           y         w       t    p               f   \n",
       "4     e         x           s         g       f    n               f   \n",
       "\n",
       "  gill-spacing gill-size gill-color  ... stalk-surface-below-ring  \\\n",
       "0            c         n          k  ...                        s   \n",
       "1            c         b          k  ...                        s   \n",
       "2            c         b          n  ...                        s   \n",
       "3            c         n          n  ...                        s   \n",
       "4            w         b          k  ...                        s   \n",
       "\n",
       "  stalk-color-above-ring stalk-color-below-ring veil-type veil-color  \\\n",
       "0                      w                      w         p          w   \n",
       "1                      w                      w         p          w   \n",
       "2                      w                      w         p          w   \n",
       "3                      w                      w         p          w   \n",
       "4                      w                      w         p          w   \n",
       "\n",
       "  ring-number ring-type spore-print-color population habitat  \n",
       "0           o         p                 k          s       u  \n",
       "1           o         p                 n          n       g  \n",
       "2           o         p                 n          n       m  \n",
       "3           o         p                 k          s       u  \n",
       "4           o         e                 n          a       g  \n",
       "\n",
       "[5 rows x 23 columns]"
      ]
     },
     "execution_count": 4,
     "metadata": {},
     "output_type": "execute_result"
    }
   ],
   "source": [
    "data.head()"
   ]
  },
  {
   "cell_type": "markdown",
   "metadata": {},
   "source": [
    "# Preprocessing"
   ]
  },
  {
   "cell_type": "code",
   "execution_count": 5,
   "metadata": {},
   "outputs": [],
   "source": [
    "mappings = list()\n",
    "\n",
    "encoder = LabelEncoder()\n",
    "\n",
    "for column in range(len(data.columns)):\n",
    "    data[data.columns[column]] = encoder.fit_transform(data[data.columns[column]])\n",
    "    mappings_dict = {index: label for index, label in enumerate(encoder.classes_)}\n",
    "    mappings.append(mappings_dict)"
   ]
  },
  {
   "cell_type": "code",
   "execution_count": 6,
   "metadata": {},
   "outputs": [
    {
     "data": {
      "text/plain": [
       "[{0: 'e', 1: 'p'},\n",
       " {0: 'b', 1: 'c', 2: 'f', 3: 'k', 4: 's', 5: 'x'},\n",
       " {0: 'f', 1: 'g', 2: 's', 3: 'y'},\n",
       " {0: 'b',\n",
       "  1: 'c',\n",
       "  2: 'e',\n",
       "  3: 'g',\n",
       "  4: 'n',\n",
       "  5: 'p',\n",
       "  6: 'r',\n",
       "  7: 'u',\n",
       "  8: 'w',\n",
       "  9: 'y'},\n",
       " {0: 'f', 1: 't'},\n",
       " {0: 'a', 1: 'c', 2: 'f', 3: 'l', 4: 'm', 5: 'n', 6: 'p', 7: 's', 8: 'y'},\n",
       " {0: 'a', 1: 'f'},\n",
       " {0: 'c', 1: 'w'},\n",
       " {0: 'b', 1: 'n'},\n",
       " {0: 'b',\n",
       "  1: 'e',\n",
       "  2: 'g',\n",
       "  3: 'h',\n",
       "  4: 'k',\n",
       "  5: 'n',\n",
       "  6: 'o',\n",
       "  7: 'p',\n",
       "  8: 'r',\n",
       "  9: 'u',\n",
       "  10: 'w',\n",
       "  11: 'y'},\n",
       " {0: 'e', 1: 't'},\n",
       " {0: '?', 1: 'b', 2: 'c', 3: 'e', 4: 'r'},\n",
       " {0: 'f', 1: 'k', 2: 's', 3: 'y'},\n",
       " {0: 'f', 1: 'k', 2: 's', 3: 'y'},\n",
       " {0: 'b', 1: 'c', 2: 'e', 3: 'g', 4: 'n', 5: 'o', 6: 'p', 7: 'w', 8: 'y'},\n",
       " {0: 'b', 1: 'c', 2: 'e', 3: 'g', 4: 'n', 5: 'o', 6: 'p', 7: 'w', 8: 'y'},\n",
       " {0: 'p'},\n",
       " {0: 'n', 1: 'o', 2: 'w', 3: 'y'},\n",
       " {0: 'n', 1: 'o', 2: 't'},\n",
       " {0: 'e', 1: 'f', 2: 'l', 3: 'n', 4: 'p'},\n",
       " {0: 'b', 1: 'h', 2: 'k', 3: 'n', 4: 'o', 5: 'r', 6: 'u', 7: 'w', 8: 'y'},\n",
       " {0: 'a', 1: 'c', 2: 'n', 3: 's', 4: 'v', 5: 'y'},\n",
       " {0: 'd', 1: 'g', 2: 'l', 3: 'm', 4: 'p', 5: 'u', 6: 'w'}]"
      ]
     },
     "execution_count": 6,
     "metadata": {},
     "output_type": "execute_result"
    }
   ],
   "source": [
    "mappings"
   ]
  },
  {
   "cell_type": "code",
   "execution_count": 7,
   "metadata": {},
   "outputs": [],
   "source": [
    "y = data['class']\n",
    "X = data[['cap-shape', 'cap-surface']]"
   ]
  },
  {
   "cell_type": "code",
   "execution_count": 8,
   "metadata": {},
   "outputs": [
    {
     "name": "stdout",
     "output_type": "stream",
     "text": [
      "      cap-shape  cap-surface\n",
      "0      1.029712     0.140128\n",
      "1      1.029712     0.140128\n",
      "2     -2.087047     0.140128\n",
      "3      1.029712     0.953270\n",
      "4      1.029712     0.140128\n",
      "...         ...          ...\n",
      "8119  -0.216992     0.140128\n",
      "8120   1.029712     0.140128\n",
      "8121  -0.840343     0.140128\n",
      "8122  -0.216992     0.953270\n",
      "8123   1.029712     0.140128\n",
      "\n",
      "[8124 rows x 2 columns]\n"
     ]
    }
   ],
   "source": [
    "scaler = StandardScaler()\n",
    "\n",
    "X = pd.DataFrame(scaler.fit_transform(X), columns=X.columns)\n",
    "\n",
    "print(X)"
   ]
  },
  {
   "cell_type": "code",
   "execution_count": 9,
   "metadata": {},
   "outputs": [],
   "source": [
    "X_train, X_test, y_train, y_test = train_test_split(X, y, train_size=0.8)"
   ]
  },
  {
   "cell_type": "markdown",
   "metadata": {},
   "source": [
    "# Training Process"
   ]
  },
  {
   "cell_type": "code",
   "execution_count": 10,
   "metadata": {},
   "outputs": [
    {
     "data": {
      "text/plain": [
       "DecisionTreeClassifier(max_depth=8, random_state=2)"
      ]
     },
     "execution_count": 10,
     "metadata": {},
     "output_type": "execute_result"
    }
   ],
   "source": [
    "from sklearn.tree import DecisionTreeClassifier\n",
    "\n",
    "dt = DecisionTreeClassifier(max_depth=8, random_state=2)\n",
    "dt.fit(X_train, y_train)\n",
    "dt.fit(X_train, y_train)\n"
   ]
  },
  {
   "cell_type": "code",
   "execution_count": 11,
   "metadata": {},
   "outputs": [],
   "source": [
    "#Model Selection\n",
    "from sklearn.linear_model import LogisticRegression\n",
    "from sklearn.svm import SVC\n",
    "from sklearn.neural_network import MLPClassifier"
   ]
  },
  {
   "cell_type": "code",
   "execution_count": 12,
   "metadata": {},
   "outputs": [],
   "source": [
    "log_model = LogisticRegression()\n",
    "svm_model = SVC(C=1.0, kernel='rbf')\n",
    "nn_model = MLPClassifier(hidden_layer_sizes=(128, 128))"
   ]
  },
  {
   "cell_type": "markdown",
   "metadata": {},
   "source": [
    "# Training"
   ]
  },
  {
   "cell_type": "code",
   "execution_count": 13,
   "metadata": {},
   "outputs": [
    {
     "data": {
      "text/plain": [
       "0.48202855736090594"
      ]
     },
     "execution_count": 13,
     "metadata": {},
     "output_type": "execute_result"
    }
   ],
   "source": [
    "np.sum(y) / len(y)"
   ]
  },
  {
   "cell_type": "code",
   "execution_count": 14,
   "metadata": {},
   "outputs": [
    {
     "data": {
      "text/plain": [
       "MLPClassifier(hidden_layer_sizes=(128, 128))"
      ]
     },
     "execution_count": 14,
     "metadata": {},
     "output_type": "execute_result"
    }
   ],
   "source": [
    "log_model.fit(X_train, y_train)\n",
    "svm_model.fit(X_train, y_train)\n",
    "nn_model.fit(X_train, y_train)"
   ]
  },
  {
   "cell_type": "code",
   "execution_count": 15,
   "metadata": {},
   "outputs": [],
   "source": [
    "from sklearn.metrics import accuracy_score\n",
    "\n",
    "y_pred = dt.predict(X_test)\n",
    "\n",
    "acc = accuracy_score(y_test, y_pred)"
   ]
  },
  {
   "cell_type": "code",
   "execution_count": 16,
   "metadata": {},
   "outputs": [
    {
     "name": "stdout",
     "output_type": "stream",
     "text": [
      "Logistic Regression : 0.5538461538461539\n",
      "Support Vector Machine : 0.6338461538461538\n",
      "Neural Network : 0.6326153846153846\n",
      "Metrics Acc : 0.63\n"
     ]
    }
   ],
   "source": [
    "print(f\"Logistic Regression : {log_model.score(X_test, y_test)}\")\n",
    "print(f\"Support Vector Machine : {svm_model.score(X_test, y_test)}\")\n",
    "print(f\"Neural Network : {nn_model.score(X_test, y_test)}\")\n",
    "print(\"Metrics Acc : {:.2f}\".format(acc))"
   ]
  },
  {
   "cell_type": "code",
   "execution_count": 17,
   "metadata": {},
   "outputs": [
    {
     "data": {
      "text/plain": [
       "<AxesSubplot:>"
      ]
     },
     "execution_count": 17,
     "metadata": {},
     "output_type": "execute_result"
    },
    {
     "data": {
      "image/png": "[encoded data removed]",
      "text/plain": [
       "<Figure size 432x288 with 2 Axes>"
      ]
     },
     "metadata": {
      "needs_background": "light"
     },
     "output_type": "display_data"
    }
   ],
   "source": [
    "X_test.shape\n",
    "\n",
    "corr = data.corr()\n",
    "\n",
    "sns.heatmap(corr)"
   ]
  },
  {
   "cell_type": "code",
   "execution_count": 19,
   "metadata": {},
   "outputs": [
    {
     "data": {
      "image/svg+xml": "<?xml version=\"1.0\" encoding=\"UTF-8\" standalone=\"no\"?>\r\n<!DOCTYPE svg PUBLIC \"-//W3C//DTD SVG 1.1//EN\"\r\n \"http://www.w3.org/Graphics/SVG/1.1/DTD/svg11.dtd\">\r\n<!-- Generated by graphviz version 2.38.0 (20140413.2041)\r\n -->\r\n<!-- Title: Tree Pages: 1 -->\r\n<svg width=\"1332pt\" height=\"790pt\"\r\n viewBox=\"0.00 0.00 1331.50 790.00\" xmlns=\"http://www.w3.org/2000/svg\" xmlns:xlink=\"http://www.w3.org/1999/xlink\">\r\n<g id=\"graph0\" class=\"graph\" transform=\"scale(1 1) rotate(0) translate(4 786)\">\r\n<title>Tree</title>\r\n<polygon fill=\"white\" stroke=\"none\" points=\"-4,4 -4,-786 1327.5,-786 1327.5,4 -4,4\"/>\r\n<!-- 0 -->\r\n<g id=\"node1\" class=\"node\"><title>0</title>\r\n<path fill=\"#fdf8f3\" stroke=\"black\" d=\"M447,-782C447,-782 276,-782 276,-782 270,-782 264,-776 264,-770 264,-770 264,-711 264,-711 264,-705 270,-699 276,-699 276,-699 447,-699 447,-699 453,-699 459,-705 459,-711 459,-711 459,-770 459,-770 459,-776 453,-782 447,-782\"/>\r\n<text text-anchor=\"start\" x=\"272\" y=\"-766.8\" font-family=\"Helvetica,sans-Serif\" font-size=\"14.00\">Concave Point Mean ≤ &#45;1.08</text>\r\n<text text-anchor=\"start\" x=\"332.5\" y=\"-751.8\" font-family=\"Helvetica,sans-Serif\" font-size=\"14.00\">gini = 0.5</text>\r\n<text text-anchor=\"start\" x=\"310\" y=\"-736.8\" font-family=\"Helvetica,sans-Serif\" font-size=\"14.00\">samples = 6499</text>\r\n<text text-anchor=\"start\" x=\"296.5\" y=\"-721.8\" font-family=\"Helvetica,sans-Serif\" font-size=\"14.00\">value = [3349, 3150]</text>\r\n<text text-anchor=\"start\" x=\"332\" y=\"-706.8\" font-family=\"Helvetica,sans-Serif\" font-size=\"14.00\">class = P</text>\r\n</g>\r\n<!-- 1 -->\r\n<g id=\"node2\" class=\"node\"><title>1</title>\r\n<path fill=\"#f2bf9a\" stroke=\"black\" d=\"M304,-663C304,-663 173,-663 173,-663 167,-663 161,-657 161,-651 161,-651 161,-592 161,-592 161,-586 167,-580 173,-580 173,-580 304,-580 304,-580 310,-580 316,-586 316,-592 316,-592 316,-651 316,-651 316,-657 310,-663 304,-663\"/>\r\n<text text-anchor=\"start\" x=\"169\" y=\"-647.8\" font-family=\"Helvetica,sans-Serif\" font-size=\"14.00\">Radius Mean ≤ &#45;1.464</text>\r\n<text text-anchor=\"start\" x=\"201\" y=\"-632.8\" font-family=\"Helvetica,sans-Serif\" font-size=\"14.00\">gini = 0.441</text>\r\n<text text-anchor=\"start\" x=\"187\" y=\"-617.8\" font-family=\"Helvetica,sans-Serif\" font-size=\"14.00\">samples = 1856</text>\r\n<text text-anchor=\"start\" x=\"177.5\" y=\"-602.8\" font-family=\"Helvetica,sans-Serif\" font-size=\"14.00\">value = [1246, 610]</text>\r\n<text text-anchor=\"start\" x=\"209\" y=\"-587.8\" font-family=\"Helvetica,sans-Serif\" font-size=\"14.00\">class = P</text>\r\n</g>\r\n<!-- 0&#45;&gt;1 -->\r\n<g id=\"edge1\" class=\"edge\"><title>0&#45;&gt;1</title>\r\n<path fill=\"none\" stroke=\"black\" d=\"M318.826,-698.907C308.999,-689.56 298.463,-679.538 288.361,-669.929\"/>\r\n<polygon fill=\"black\" stroke=\"black\" points=\"290.757,-667.377 281.099,-663.021 285.932,-672.449 290.757,-667.377\"/>\r\n<text text-anchor=\"middle\" x=\"281.724\" y=\"-684.313\" font-family=\"Helvetica,sans-Serif\" font-size=\"14.00\">True</text>\r\n</g>\r\n<!-- 10 -->\r\n<g id=\"node11\" class=\"node\"><title>10</title>\r\n<path fill=\"#ddeefb\" stroke=\"black\" d=\"M550,-663C550,-663 419,-663 419,-663 413,-663 407,-657 407,-651 407,-651 407,-592 407,-592 407,-586 413,-580 419,-580 419,-580 550,-580 550,-580 556,-580 562,-586 562,-592 562,-592 562,-651 562,-651 562,-657 556,-663 550,-663\"/>\r\n<text text-anchor=\"start\" x=\"415\" y=\"-647.8\" font-family=\"Helvetica,sans-Serif\" font-size=\"14.00\">Radius Mean ≤ &#45;1.775</text>\r\n<text text-anchor=\"start\" x=\"447\" y=\"-632.8\" font-family=\"Helvetica,sans-Serif\" font-size=\"14.00\">gini = 0.496</text>\r\n<text text-anchor=\"start\" x=\"433\" y=\"-617.8\" font-family=\"Helvetica,sans-Serif\" font-size=\"14.00\">samples = 4643</text>\r\n<text text-anchor=\"start\" x=\"419.5\" y=\"-602.8\" font-family=\"Helvetica,sans-Serif\" font-size=\"14.00\">value = [2103, 2540]</text>\r\n<text text-anchor=\"start\" x=\"455\" y=\"-587.8\" font-family=\"Helvetica,sans-Serif\" font-size=\"14.00\">class = E</text>\r\n</g>\r\n<!-- 0&#45;&gt;10 -->\r\n<g id=\"edge10\" class=\"edge\"><title>0&#45;&gt;10</title>\r\n<path fill=\"none\" stroke=\"black\" d=\"M404.174,-698.907C414.001,-689.56 424.537,-679.538 434.639,-669.929\"/>\r\n<polygon fill=\"black\" stroke=\"black\" points=\"437.068,-672.449 441.901,-663.021 432.243,-667.377 437.068,-672.449\"/>\r\n<text text-anchor=\"middle\" x=\"441.276\" y=\"-684.313\" font-family=\"Helvetica,sans-Serif\" font-size=\"14.00\">False</text>\r\n</g>\r\n<!-- 2 -->\r\n<g id=\"node3\" class=\"node\"><title>2</title>\r\n<path fill=\"#e88f4f\" stroke=\"black\" d=\"M133,-536.5C133,-536.5 52,-536.5 52,-536.5 46,-536.5 40,-530.5 40,-524.5 40,-524.5 40,-480.5 40,-480.5 40,-474.5 46,-468.5 52,-468.5 52,-468.5 133,-468.5 133,-468.5 139,-468.5 145,-474.5 145,-480.5 145,-480.5 145,-524.5 145,-524.5 145,-530.5 139,-536.5 133,-536.5\"/>\r\n<text text-anchor=\"start\" x=\"59\" y=\"-521.3\" font-family=\"Helvetica,sans-Serif\" font-size=\"14.00\">gini = 0.18</text>\r\n<text text-anchor=\"start\" x=\"49\" y=\"-506.3\" font-family=\"Helvetica,sans-Serif\" font-size=\"14.00\">samples = 40</text>\r\n<text text-anchor=\"start\" x=\"48\" y=\"-491.3\" font-family=\"Helvetica,sans-Serif\" font-size=\"14.00\">value = [36, 4]</text>\r\n<text text-anchor=\"start\" x=\"63\" y=\"-476.3\" font-family=\"Helvetica,sans-Serif\" font-size=\"14.00\">class = P</text>\r\n</g>\r\n<!-- 1&#45;&gt;2 -->\r\n<g id=\"edge2\" class=\"edge\"><title>1&#45;&gt;2</title>\r\n<path fill=\"none\" stroke=\"black\" d=\"M187.846,-579.907C172.975,-567.99 156.735,-554.976 141.94,-543.12\"/>\r\n<polygon fill=\"black\" stroke=\"black\" points=\"143.88,-540.189 133.888,-536.667 139.503,-545.652 143.88,-540.189\"/>\r\n</g>\r\n<!-- 3 -->\r\n<g id=\"node4\" class=\"node\"><title>3</title>\r\n<path fill=\"#f2c09c\" stroke=\"black\" d=\"M302,-544C302,-544 175,-544 175,-544 169,-544 163,-538 163,-532 163,-532 163,-473 163,-473 163,-467 169,-461 175,-461 175,-461 302,-461 302,-461 308,-461 314,-467 314,-473 314,-473 314,-532 314,-532 314,-538 308,-544 302,-544\"/>\r\n<text text-anchor=\"start\" x=\"171\" y=\"-528.8\" font-family=\"Helvetica,sans-Serif\" font-size=\"14.00\">Radius Mean ≤ 0.718</text>\r\n<text text-anchor=\"start\" x=\"201\" y=\"-513.8\" font-family=\"Helvetica,sans-Serif\" font-size=\"14.00\">gini = 0.445</text>\r\n<text text-anchor=\"start\" x=\"187\" y=\"-498.8\" font-family=\"Helvetica,sans-Serif\" font-size=\"14.00\">samples = 1816</text>\r\n<text text-anchor=\"start\" x=\"177.5\" y=\"-483.8\" font-family=\"Helvetica,sans-Serif\" font-size=\"14.00\">value = [1210, 606]</text>\r\n<text text-anchor=\"start\" x=\"209\" y=\"-468.8\" font-family=\"Helvetica,sans-Serif\" font-size=\"14.00\">class = P</text>\r\n</g>\r\n<!-- 1&#45;&gt;3 -->\r\n<g id=\"edge3\" class=\"edge\"><title>1&#45;&gt;3</title>\r\n<path fill=\"none\" stroke=\"black\" d=\"M238.5,-579.907C238.5,-571.649 238.5,-562.864 238.5,-554.302\"/>\r\n<polygon fill=\"black\" stroke=\"black\" points=\"242,-554.021 238.5,-544.021 235,-554.021 242,-554.021\"/>\r\n</g>\r\n<!-- 4 -->\r\n<g id=\"node5\" class=\"node\"><title>4</title>\r\n<path fill=\"#f0b890\" stroke=\"black\" d=\"M143,-425C143,-425 12,-425 12,-425 6,-425 0,-419 0,-413 0,-413 0,-354 0,-354 0,-348 6,-342 12,-342 12,-342 143,-342 143,-342 149,-342 155,-348 155,-354 155,-354 155,-413 155,-413 155,-419 149,-425 143,-425\"/>\r\n<text text-anchor=\"start\" x=\"8\" y=\"-409.8\" font-family=\"Helvetica,sans-Serif\" font-size=\"14.00\">Radius Mean ≤ &#45;0.529</text>\r\n<text text-anchor=\"start\" x=\"40\" y=\"-394.8\" font-family=\"Helvetica,sans-Serif\" font-size=\"14.00\">gini = 0.424</text>\r\n<text text-anchor=\"start\" x=\"30\" y=\"-379.8\" font-family=\"Helvetica,sans-Serif\" font-size=\"14.00\">samples = 888</text>\r\n<text text-anchor=\"start\" x=\"20.5\" y=\"-364.8\" font-family=\"Helvetica,sans-Serif\" font-size=\"14.00\">value = [617, 271]</text>\r\n<text text-anchor=\"start\" x=\"48\" y=\"-349.8\" font-family=\"Helvetica,sans-Serif\" font-size=\"14.00\">class = P</text>\r\n</g>\r\n<!-- 3&#45;&gt;4 -->\r\n<g id=\"edge4\" class=\"edge\"><title>3&#45;&gt;4</title>\r\n<path fill=\"none\" stroke=\"black\" d=\"M182.642,-460.907C169.405,-451.288 155.184,-440.953 141.611,-431.09\"/>\r\n<polygon fill=\"black\" stroke=\"black\" points=\"143.407,-428.068 133.259,-425.021 139.291,-433.731 143.407,-428.068\"/>\r\n</g>\r\n<!-- 9 -->\r\n<g id=\"node10\" class=\"node\"><title>9</title>\r\n<path fill=\"#f4c8a9\" stroke=\"black\" d=\"M291.5,-417.5C291.5,-417.5 185.5,-417.5 185.5,-417.5 179.5,-417.5 173.5,-411.5 173.5,-405.5 173.5,-405.5 173.5,-361.5 173.5,-361.5 173.5,-355.5 179.5,-349.5 185.5,-349.5 185.5,-349.5 291.5,-349.5 291.5,-349.5 297.5,-349.5 303.5,-355.5 303.5,-361.5 303.5,-361.5 303.5,-405.5 303.5,-405.5 303.5,-411.5 297.5,-417.5 291.5,-417.5\"/>\r\n<text text-anchor=\"start\" x=\"201\" y=\"-402.3\" font-family=\"Helvetica,sans-Serif\" font-size=\"14.00\">gini = 0.461</text>\r\n<text text-anchor=\"start\" x=\"191\" y=\"-387.3\" font-family=\"Helvetica,sans-Serif\" font-size=\"14.00\">samples = 928</text>\r\n<text text-anchor=\"start\" x=\"181.5\" y=\"-372.3\" font-family=\"Helvetica,sans-Serif\" font-size=\"14.00\">value = [593, 335]</text>\r\n<text text-anchor=\"start\" x=\"209\" y=\"-357.3\" font-family=\"Helvetica,sans-Serif\" font-size=\"14.00\">class = P</text>\r\n</g>\r\n<!-- 3&#45;&gt;9 -->\r\n<g id=\"edge9\" class=\"edge\"><title>3&#45;&gt;9</title>\r\n<path fill=\"none\" stroke=\"black\" d=\"M238.5,-460.907C238.5,-450.204 238.5,-438.615 238.5,-427.776\"/>\r\n<polygon fill=\"black\" stroke=\"black\" points=\"242,-427.667 238.5,-417.667 235,-427.667 242,-427.667\"/>\r\n</g>\r\n<!-- 5 -->\r\n<g id=\"node6\" class=\"node\"><title>5</title>\r\n<path fill=\"#f2bf9a\" stroke=\"black\" d=\"M121.5,-298.5C121.5,-298.5 15.5,-298.5 15.5,-298.5 9.5,-298.5 3.5,-292.5 3.5,-286.5 3.5,-286.5 3.5,-242.5 3.5,-242.5 3.5,-236.5 9.5,-230.5 15.5,-230.5 15.5,-230.5 121.5,-230.5 121.5,-230.5 127.5,-230.5 133.5,-236.5 133.5,-242.5 133.5,-242.5 133.5,-286.5 133.5,-286.5 133.5,-292.5 127.5,-298.5 121.5,-298.5\"/>\r\n<text text-anchor=\"start\" x=\"31\" y=\"-283.3\" font-family=\"Helvetica,sans-Serif\" font-size=\"14.00\">gini = 0.441</text>\r\n<text text-anchor=\"start\" x=\"21\" y=\"-268.3\" font-family=\"Helvetica,sans-Serif\" font-size=\"14.00\">samples = 817</text>\r\n<text text-anchor=\"start\" x=\"11.5\" y=\"-253.3\" font-family=\"Helvetica,sans-Serif\" font-size=\"14.00\">value = [549, 268]</text>\r\n<text text-anchor=\"start\" x=\"39\" y=\"-238.3\" font-family=\"Helvetica,sans-Serif\" font-size=\"14.00\">class = P</text>\r\n</g>\r\n<!-- 4&#45;&gt;5 -->\r\n<g id=\"edge5\" class=\"edge\"><title>4&#45;&gt;5</title>\r\n<path fill=\"none\" stroke=\"black\" d=\"M74.3775,-341.907C73.5542,-331.204 72.6627,-319.615 71.8289,-308.776\"/>\r\n<polygon fill=\"black\" stroke=\"black\" points=\"75.308,-308.369 71.0513,-298.667 68.3287,-308.906 75.308,-308.369\"/>\r\n</g>\r\n<!-- 6 -->\r\n<g id=\"node7\" class=\"node\"><title>6</title>\r\n<path fill=\"#e68742\" stroke=\"black\" d=\"M291,-306C291,-306 164,-306 164,-306 158,-306 152,-300 152,-294 152,-294 152,-235 152,-235 152,-229 158,-223 164,-223 164,-223 291,-223 291,-223 297,-223 303,-229 303,-235 303,-235 303,-294 303,-294 303,-300 297,-306 291,-306\"/>\r\n<text text-anchor=\"start\" x=\"160\" y=\"-290.8\" font-family=\"Helvetica,sans-Serif\" font-size=\"14.00\">Radius Mean ≤ 0.095</text>\r\n<text text-anchor=\"start\" x=\"190\" y=\"-275.8\" font-family=\"Helvetica,sans-Serif\" font-size=\"14.00\">gini = 0.081</text>\r\n<text text-anchor=\"start\" x=\"184\" y=\"-260.8\" font-family=\"Helvetica,sans-Serif\" font-size=\"14.00\">samples = 71</text>\r\n<text text-anchor=\"start\" x=\"183\" y=\"-245.8\" font-family=\"Helvetica,sans-Serif\" font-size=\"14.00\">value = [68, 3]</text>\r\n<text text-anchor=\"start\" x=\"198\" y=\"-230.8\" font-family=\"Helvetica,sans-Serif\" font-size=\"14.00\">class = P</text>\r\n</g>\r\n<!-- 4&#45;&gt;6 -->\r\n<g id=\"edge6\" class=\"edge\"><title>4&#45;&gt;6</title>\r\n<path fill=\"none\" stroke=\"black\" d=\"M129.542,-341.907C141.758,-332.379 154.874,-322.148 167.411,-312.37\"/>\r\n<polygon fill=\"black\" stroke=\"black\" points=\"169.818,-314.931 175.55,-306.021 165.513,-309.411 169.818,-314.931\"/>\r\n</g>\r\n<!-- 7 -->\r\n<g id=\"node8\" class=\"node\"><title>7</title>\r\n<path fill=\"#e78a47\" stroke=\"black\" d=\"M203,-179.5C203,-179.5 122,-179.5 122,-179.5 116,-179.5 110,-173.5 110,-167.5 110,-167.5 110,-123.5 110,-123.5 110,-117.5 116,-111.5 122,-111.5 122,-111.5 203,-111.5 203,-111.5 209,-111.5 215,-117.5 215,-123.5 215,-123.5 215,-167.5 215,-167.5 215,-173.5 209,-179.5 203,-179.5\"/>\r\n<text text-anchor=\"start\" x=\"125\" y=\"-164.3\" font-family=\"Helvetica,sans-Serif\" font-size=\"14.00\">gini = 0.127</text>\r\n<text text-anchor=\"start\" x=\"119\" y=\"-149.3\" font-family=\"Helvetica,sans-Serif\" font-size=\"14.00\">samples = 44</text>\r\n<text text-anchor=\"start\" x=\"118\" y=\"-134.3\" font-family=\"Helvetica,sans-Serif\" font-size=\"14.00\">value = [41, 3]</text>\r\n<text text-anchor=\"start\" x=\"133\" y=\"-119.3\" font-family=\"Helvetica,sans-Serif\" font-size=\"14.00\">class = P</text>\r\n</g>\r\n<!-- 6&#45;&gt;7 -->\r\n<g id=\"edge7\" class=\"edge\"><title>6&#45;&gt;7</title>\r\n<path fill=\"none\" stroke=\"black\" d=\"M204.949,-222.907C198.757,-211.763 192.032,-199.658 185.8,-188.439\"/>\r\n<polygon fill=\"black\" stroke=\"black\" points=\"188.842,-186.709 180.926,-179.667 182.723,-190.108 188.842,-186.709\"/>\r\n</g>\r\n<!-- 8 -->\r\n<g id=\"node9\" class=\"node\"><title>8</title>\r\n<path fill=\"#e58139\" stroke=\"black\" d=\"M326,-179.5C326,-179.5 245,-179.5 245,-179.5 239,-179.5 233,-173.5 233,-167.5 233,-167.5 233,-123.5 233,-123.5 233,-117.5 239,-111.5 245,-111.5 245,-111.5 326,-111.5 326,-111.5 332,-111.5 338,-117.5 338,-123.5 338,-123.5 338,-167.5 338,-167.5 338,-173.5 332,-179.5 326,-179.5\"/>\r\n<text text-anchor=\"start\" x=\"256.5\" y=\"-164.3\" font-family=\"Helvetica,sans-Serif\" font-size=\"14.00\">gini = 0.0</text>\r\n<text text-anchor=\"start\" x=\"242\" y=\"-149.3\" font-family=\"Helvetica,sans-Serif\" font-size=\"14.00\">samples = 27</text>\r\n<text text-anchor=\"start\" x=\"241\" y=\"-134.3\" font-family=\"Helvetica,sans-Serif\" font-size=\"14.00\">value = [27, 0]</text>\r\n<text text-anchor=\"start\" x=\"256\" y=\"-119.3\" font-family=\"Helvetica,sans-Serif\" font-size=\"14.00\">class = P</text>\r\n</g>\r\n<!-- 6&#45;&gt;8 -->\r\n<g id=\"edge8\" class=\"edge\"><title>6&#45;&gt;8</title>\r\n<path fill=\"none\" stroke=\"black\" d=\"M247.623,-222.907C253.093,-211.873 259.029,-199.898 264.544,-188.773\"/>\r\n<polygon fill=\"black\" stroke=\"black\" points=\"267.753,-190.181 269.058,-179.667 261.481,-187.072 267.753,-190.181\"/>\r\n</g>\r\n<!-- 11 -->\r\n<g id=\"node12\" class=\"node\"><title>11</title>\r\n<path fill=\"#e89253\" stroke=\"black\" d=\"M574,-544C574,-544 395,-544 395,-544 389,-544 383,-538 383,-532 383,-532 383,-473 383,-473 383,-467 389,-461 395,-461 395,-461 574,-461 574,-461 580,-461 586,-467 586,-473 586,-473 586,-532 586,-532 586,-538 580,-544 574,-544\"/>\r\n<text text-anchor=\"start\" x=\"391\" y=\"-528.8\" font-family=\"Helvetica,sans-Serif\" font-size=\"14.00\">Concave Point Mean ≤ &#45;0.266</text>\r\n<text text-anchor=\"start\" x=\"447\" y=\"-513.8\" font-family=\"Helvetica,sans-Serif\" font-size=\"14.00\">gini = 0.206</text>\r\n<text text-anchor=\"start\" x=\"437\" y=\"-498.8\" font-family=\"Helvetica,sans-Serif\" font-size=\"14.00\">samples = 308</text>\r\n<text text-anchor=\"start\" x=\"431.5\" y=\"-483.8\" font-family=\"Helvetica,sans-Serif\" font-size=\"14.00\">value = [272, 36]</text>\r\n<text text-anchor=\"start\" x=\"455\" y=\"-468.8\" font-family=\"Helvetica,sans-Serif\" font-size=\"14.00\">class = P</text>\r\n</g>\r\n<!-- 10&#45;&gt;11 -->\r\n<g id=\"edge11\" class=\"edge\"><title>10&#45;&gt;11</title>\r\n<path fill=\"none\" stroke=\"black\" d=\"M484.5,-579.907C484.5,-571.649 484.5,-562.864 484.5,-554.302\"/>\r\n<polygon fill=\"black\" stroke=\"black\" points=\"488,-554.021 484.5,-544.021 481,-554.021 488,-554.021\"/>\r\n</g>\r\n<!-- 16 -->\r\n<g id=\"node17\" class=\"node\"><title>16</title>\r\n<path fill=\"#cae5f8\" stroke=\"black\" d=\"M887,-544C887,-544 760,-544 760,-544 754,-544 748,-538 748,-532 748,-532 748,-473 748,-473 748,-467 754,-461 760,-461 760,-461 887,-461 887,-461 893,-461 899,-467 899,-473 899,-473 899,-532 899,-532 899,-538 893,-544 887,-544\"/>\r\n<text text-anchor=\"start\" x=\"756\" y=\"-528.8\" font-family=\"Helvetica,sans-Serif\" font-size=\"14.00\">Radius Mean ≤ 0.406</text>\r\n<text text-anchor=\"start\" x=\"786\" y=\"-513.8\" font-family=\"Helvetica,sans-Serif\" font-size=\"14.00\">gini = 0.488</text>\r\n<text text-anchor=\"start\" x=\"772\" y=\"-498.8\" font-family=\"Helvetica,sans-Serif\" font-size=\"14.00\">samples = 4335</text>\r\n<text text-anchor=\"start\" x=\"758.5\" y=\"-483.8\" font-family=\"Helvetica,sans-Serif\" font-size=\"14.00\">value = [1831, 2504]</text>\r\n<text text-anchor=\"start\" x=\"794\" y=\"-468.8\" font-family=\"Helvetica,sans-Serif\" font-size=\"14.00\">class = E</text>\r\n</g>\r\n<!-- 10&#45;&gt;16 -->\r\n<g id=\"edge16\" class=\"edge\"><title>10&#45;&gt;16</title>\r\n<path fill=\"none\" stroke=\"black\" d=\"M562.273,-593.658C614.829,-575.519 684.221,-551.57 738.275,-532.914\"/>\r\n<polygon fill=\"black\" stroke=\"black\" points=\"739.528,-536.184 747.839,-529.613 737.244,-529.567 739.528,-536.184\"/>\r\n</g>\r\n<!-- 12 -->\r\n<g id=\"node13\" class=\"node\"><title>12</title>\r\n<path fill=\"#399de5\" stroke=\"black\" d=\"M407,-417.5C407,-417.5 334,-417.5 334,-417.5 328,-417.5 322,-411.5 322,-405.5 322,-405.5 322,-361.5 322,-361.5 322,-355.5 328,-349.5 334,-349.5 334,-349.5 407,-349.5 407,-349.5 413,-349.5 419,-355.5 419,-361.5 419,-361.5 419,-405.5 419,-405.5 419,-411.5 413,-417.5 407,-417.5\"/>\r\n<text text-anchor=\"start\" x=\"341.5\" y=\"-402.3\" font-family=\"Helvetica,sans-Serif\" font-size=\"14.00\">gini = 0.0</text>\r\n<text text-anchor=\"start\" x=\"331\" y=\"-387.3\" font-family=\"Helvetica,sans-Serif\" font-size=\"14.00\">samples = 1</text>\r\n<text text-anchor=\"start\" x=\"330\" y=\"-372.3\" font-family=\"Helvetica,sans-Serif\" font-size=\"14.00\">value = [0, 1]</text>\r\n<text text-anchor=\"start\" x=\"341\" y=\"-357.3\" font-family=\"Helvetica,sans-Serif\" font-size=\"14.00\">class = E</text>\r\n</g>\r\n<!-- 11&#45;&gt;12 -->\r\n<g id=\"edge12\" class=\"edge\"><title>11&#45;&gt;12</title>\r\n<path fill=\"none\" stroke=\"black\" d=\"M444.948,-460.907C433.659,-449.321 421.359,-436.698 410.069,-425.111\"/>\r\n<polygon fill=\"black\" stroke=\"black\" points=\"412.302,-422.387 402.817,-417.667 407.288,-427.272 412.302,-422.387\"/>\r\n</g>\r\n<!-- 13 -->\r\n<g id=\"node14\" class=\"node\"><title>13</title>\r\n<path fill=\"#e89152\" stroke=\"black\" d=\"M624,-425C624,-425 449,-425 449,-425 443,-425 437,-419 437,-413 437,-413 437,-354 437,-354 437,-348 443,-342 449,-342 449,-342 624,-342 624,-342 630,-342 636,-348 636,-354 636,-354 636,-413 636,-413 636,-419 630,-425 624,-425\"/>\r\n<text text-anchor=\"start\" x=\"445\" y=\"-409.8\" font-family=\"Helvetica,sans-Serif\" font-size=\"14.00\">Concave Point Mean ≤ 0.547</text>\r\n<text text-anchor=\"start\" x=\"499\" y=\"-394.8\" font-family=\"Helvetica,sans-Serif\" font-size=\"14.00\">gini = 0.202</text>\r\n<text text-anchor=\"start\" x=\"489\" y=\"-379.8\" font-family=\"Helvetica,sans-Serif\" font-size=\"14.00\">samples = 307</text>\r\n<text text-anchor=\"start\" x=\"483.5\" y=\"-364.8\" font-family=\"Helvetica,sans-Serif\" font-size=\"14.00\">value = [272, 35]</text>\r\n<text text-anchor=\"start\" x=\"507\" y=\"-349.8\" font-family=\"Helvetica,sans-Serif\" font-size=\"14.00\">class = P</text>\r\n</g>\r\n<!-- 11&#45;&gt;13 -->\r\n<g id=\"edge13\" class=\"edge\"><title>11&#45;&gt;13</title>\r\n<path fill=\"none\" stroke=\"black\" d=\"M502.541,-460.907C506.373,-452.286 510.46,-443.09 514.422,-434.175\"/>\r\n<polygon fill=\"black\" stroke=\"black\" points=\"517.628,-435.58 518.491,-425.021 511.231,-432.737 517.628,-435.58\"/>\r\n</g>\r\n<!-- 14 -->\r\n<g id=\"node15\" class=\"node\"><title>14</title>\r\n<path fill=\"#e78d4b\" stroke=\"black\" d=\"M449.5,-298.5C449.5,-298.5 351.5,-298.5 351.5,-298.5 345.5,-298.5 339.5,-292.5 339.5,-286.5 339.5,-286.5 339.5,-242.5 339.5,-242.5 339.5,-236.5 345.5,-230.5 351.5,-230.5 351.5,-230.5 449.5,-230.5 449.5,-230.5 455.5,-230.5 461.5,-236.5 461.5,-242.5 461.5,-242.5 461.5,-286.5 461.5,-286.5 461.5,-292.5 455.5,-298.5 449.5,-298.5\"/>\r\n<text text-anchor=\"start\" x=\"363\" y=\"-283.3\" font-family=\"Helvetica,sans-Serif\" font-size=\"14.00\">gini = 0.155</text>\r\n<text text-anchor=\"start\" x=\"353\" y=\"-268.3\" font-family=\"Helvetica,sans-Serif\" font-size=\"14.00\">samples = 189</text>\r\n<text text-anchor=\"start\" x=\"347.5\" y=\"-253.3\" font-family=\"Helvetica,sans-Serif\" font-size=\"14.00\">value = [173, 16]</text>\r\n<text text-anchor=\"start\" x=\"371\" y=\"-238.3\" font-family=\"Helvetica,sans-Serif\" font-size=\"14.00\">class = P</text>\r\n</g>\r\n<!-- 13&#45;&gt;14 -->\r\n<g id=\"edge14\" class=\"edge\"><title>13&#45;&gt;14</title>\r\n<path fill=\"none\" stroke=\"black\" d=\"M489.315,-341.907C475.591,-330.101 460.615,-317.217 446.937,-305.45\"/>\r\n<polygon fill=\"black\" stroke=\"black\" points=\"448.916,-302.535 439.053,-298.667 444.351,-307.842 448.916,-302.535\"/>\r\n</g>\r\n<!-- 15 -->\r\n<g id=\"node16\" class=\"node\"><title>15</title>\r\n<path fill=\"#ea995f\" stroke=\"black\" d=\"M581,-298.5C581,-298.5 492,-298.5 492,-298.5 486,-298.5 480,-292.5 480,-286.5 480,-286.5 480,-242.5 480,-242.5 480,-236.5 486,-230.5 492,-230.5 492,-230.5 581,-230.5 581,-230.5 587,-230.5 593,-236.5 593,-242.5 593,-242.5 593,-286.5 593,-286.5 593,-292.5 587,-298.5 581,-298.5\"/>\r\n<text text-anchor=\"start\" x=\"503\" y=\"-283.3\" font-family=\"Helvetica,sans-Serif\" font-size=\"14.00\">gini = 0.27</text>\r\n<text text-anchor=\"start\" x=\"489\" y=\"-268.3\" font-family=\"Helvetica,sans-Serif\" font-size=\"14.00\">samples = 118</text>\r\n<text text-anchor=\"start\" x=\"488\" y=\"-253.3\" font-family=\"Helvetica,sans-Serif\" font-size=\"14.00\">value = [99, 19]</text>\r\n<text text-anchor=\"start\" x=\"507\" y=\"-238.3\" font-family=\"Helvetica,sans-Serif\" font-size=\"14.00\">class = P</text>\r\n</g>\r\n<!-- 13&#45;&gt;15 -->\r\n<g id=\"edge15\" class=\"edge\"><title>13&#45;&gt;15</title>\r\n<path fill=\"none\" stroke=\"black\" d=\"M536.5,-341.907C536.5,-331.204 536.5,-319.615 536.5,-308.776\"/>\r\n<polygon fill=\"black\" stroke=\"black\" points=\"540,-308.667 536.5,-298.667 533,-308.667 540,-308.667\"/>\r\n</g>\r\n<!-- 17 -->\r\n<g id=\"node18\" class=\"node\"><title>17</title>\r\n<path fill=\"#b0d8f5\" stroke=\"black\" d=\"M889,-425C889,-425 758,-425 758,-425 752,-425 746,-419 746,-413 746,-413 746,-354 746,-354 746,-348 752,-342 758,-342 758,-342 889,-342 889,-342 895,-342 901,-348 901,-354 901,-354 901,-413 901,-413 901,-419 895,-425 889,-425\"/>\r\n<text text-anchor=\"start\" x=\"754\" y=\"-409.8\" font-family=\"Helvetica,sans-Serif\" font-size=\"14.00\">Radius Mean ≤ &#45;0.529</text>\r\n<text text-anchor=\"start\" x=\"786\" y=\"-394.8\" font-family=\"Helvetica,sans-Serif\" font-size=\"14.00\">gini = 0.469</text>\r\n<text text-anchor=\"start\" x=\"772\" y=\"-379.8\" font-family=\"Helvetica,sans-Serif\" font-size=\"14.00\">samples = 2319</text>\r\n<text text-anchor=\"start\" x=\"762.5\" y=\"-364.8\" font-family=\"Helvetica,sans-Serif\" font-size=\"14.00\">value = [871, 1448]</text>\r\n<text text-anchor=\"start\" x=\"794\" y=\"-349.8\" font-family=\"Helvetica,sans-Serif\" font-size=\"14.00\">class = E</text>\r\n</g>\r\n<!-- 16&#45;&gt;17 -->\r\n<g id=\"edge17\" class=\"edge\"><title>16&#45;&gt;17</title>\r\n<path fill=\"none\" stroke=\"black\" d=\"M823.5,-460.907C823.5,-452.649 823.5,-443.864 823.5,-435.302\"/>\r\n<polygon fill=\"black\" stroke=\"black\" points=\"827,-435.021 823.5,-425.021 820,-435.021 827,-435.021\"/>\r\n</g>\r\n<!-- 30 -->\r\n<g id=\"node31\" class=\"node\"><title>30</title>\r\n<path fill=\"#edf6fd\" stroke=\"black\" d=\"M1198,-425C1198,-425 1023,-425 1023,-425 1017,-425 1011,-419 1011,-413 1011,-413 1011,-354 1011,-354 1011,-348 1017,-342 1023,-342 1023,-342 1198,-342 1198,-342 1204,-342 1210,-348 1210,-354 1210,-354 1210,-413 1210,-413 1210,-419 1204,-425 1198,-425\"/>\r\n<text text-anchor=\"start\" x=\"1019\" y=\"-409.8\" font-family=\"Helvetica,sans-Serif\" font-size=\"14.00\">Concave Point Mean ≤ 0.547</text>\r\n<text text-anchor=\"start\" x=\"1073\" y=\"-394.8\" font-family=\"Helvetica,sans-Serif\" font-size=\"14.00\">gini = 0.499</text>\r\n<text text-anchor=\"start\" x=\"1059\" y=\"-379.8\" font-family=\"Helvetica,sans-Serif\" font-size=\"14.00\">samples = 2016</text>\r\n<text text-anchor=\"start\" x=\"1049.5\" y=\"-364.8\" font-family=\"Helvetica,sans-Serif\" font-size=\"14.00\">value = [960, 1056]</text>\r\n<text text-anchor=\"start\" x=\"1081\" y=\"-349.8\" font-family=\"Helvetica,sans-Serif\" font-size=\"14.00\">class = E</text>\r\n</g>\r\n<!-- 16&#45;&gt;30 -->\r\n<g id=\"edge30\" class=\"edge\"><title>16&#45;&gt;30</title>\r\n<path fill=\"none\" stroke=\"black\" d=\"M899.281,-470.607C930.552,-457.858 967.39,-442.841 1001.47,-428.947\"/>\r\n<polygon fill=\"black\" stroke=\"black\" points=\"1003.06,-432.077 1011,-425.061 1000.42,-425.595 1003.06,-432.077\"/>\r\n</g>\r\n<!-- 18 -->\r\n<g id=\"node19\" class=\"node\"><title>18</title>\r\n<path fill=\"#cee7f9\" stroke=\"black\" d=\"M798,-306C798,-306 623,-306 623,-306 617,-306 611,-300 611,-294 611,-294 611,-235 611,-235 611,-229 617,-223 623,-223 623,-223 798,-223 798,-223 804,-223 810,-229 810,-235 810,-235 810,-294 810,-294 810,-300 804,-306 798,-306\"/>\r\n<text text-anchor=\"start\" x=\"619\" y=\"-290.8\" font-family=\"Helvetica,sans-Serif\" font-size=\"14.00\">Concave Point Mean ≤ 0.547</text>\r\n<text text-anchor=\"start\" x=\"677\" y=\"-275.8\" font-family=\"Helvetica,sans-Serif\" font-size=\"14.00\">gini = 0.49</text>\r\n<text text-anchor=\"start\" x=\"659\" y=\"-260.8\" font-family=\"Helvetica,sans-Serif\" font-size=\"14.00\">samples = 1709</text>\r\n<text text-anchor=\"start\" x=\"653.5\" y=\"-245.8\" font-family=\"Helvetica,sans-Serif\" font-size=\"14.00\">value = [735, 974]</text>\r\n<text text-anchor=\"start\" x=\"681\" y=\"-230.8\" font-family=\"Helvetica,sans-Serif\" font-size=\"14.00\">class = E</text>\r\n</g>\r\n<!-- 17&#45;&gt;18 -->\r\n<g id=\"edge18\" class=\"edge\"><title>17&#45;&gt;18</title>\r\n<path fill=\"none\" stroke=\"black\" d=\"M784.295,-341.907C775.443,-332.742 765.963,-322.927 756.848,-313.489\"/>\r\n<polygon fill=\"black\" stroke=\"black\" points=\"759.1,-310.782 749.635,-306.021 754.065,-315.645 759.1,-310.782\"/>\r\n</g>\r\n<!-- 25 -->\r\n<g id=\"node26\" class=\"node\"><title>25</title>\r\n<path fill=\"#72b9ec\" stroke=\"black\" d=\"M1015,-306C1015,-306 840,-306 840,-306 834,-306 828,-300 828,-294 828,-294 828,-235 828,-235 828,-229 834,-223 840,-223 840,-223 1015,-223 1015,-223 1021,-223 1027,-229 1027,-235 1027,-235 1027,-294 1027,-294 1027,-300 1021,-306 1015,-306\"/>\r\n<text text-anchor=\"start\" x=\"836\" y=\"-290.8\" font-family=\"Helvetica,sans-Serif\" font-size=\"14.00\">Concave Point Mean ≤ 0.547</text>\r\n<text text-anchor=\"start\" x=\"890\" y=\"-275.8\" font-family=\"Helvetica,sans-Serif\" font-size=\"14.00\">gini = 0.346</text>\r\n<text text-anchor=\"start\" x=\"880\" y=\"-260.8\" font-family=\"Helvetica,sans-Serif\" font-size=\"14.00\">samples = 610</text>\r\n<text text-anchor=\"start\" x=\"870.5\" y=\"-245.8\" font-family=\"Helvetica,sans-Serif\" font-size=\"14.00\">value = [136, 474]</text>\r\n<text text-anchor=\"start\" x=\"898\" y=\"-230.8\" font-family=\"Helvetica,sans-Serif\" font-size=\"14.00\">class = E</text>\r\n</g>\r\n<!-- 17&#45;&gt;25 -->\r\n<g id=\"edge25\" class=\"edge\"><title>17&#45;&gt;25</title>\r\n<path fill=\"none\" stroke=\"black\" d=\"M859.582,-341.907C867.649,-332.832 876.281,-323.121 884.594,-313.769\"/>\r\n<polygon fill=\"black\" stroke=\"black\" points=\"887.454,-315.82 891.482,-306.021 882.222,-311.17 887.454,-315.82\"/>\r\n</g>\r\n<!-- 19 -->\r\n<g id=\"node20\" class=\"node\"><title>19</title>\r\n<path fill=\"#b2d9f5\" stroke=\"black\" d=\"M604,-187C604,-187 425,-187 425,-187 419,-187 413,-181 413,-175 413,-175 413,-116 413,-116 413,-110 419,-104 425,-104 425,-104 604,-104 604,-104 610,-104 616,-110 616,-116 616,-116 616,-175 616,-175 616,-181 610,-187 604,-187\"/>\r\n<text text-anchor=\"start\" x=\"421\" y=\"-171.8\" font-family=\"Helvetica,sans-Serif\" font-size=\"14.00\">Concave Point Mean ≤ &#45;0.266</text>\r\n<text text-anchor=\"start\" x=\"477\" y=\"-156.8\" font-family=\"Helvetica,sans-Serif\" font-size=\"14.00\">gini = 0.471</text>\r\n<text text-anchor=\"start\" x=\"467\" y=\"-141.8\" font-family=\"Helvetica,sans-Serif\" font-size=\"14.00\">samples = 644</text>\r\n<text text-anchor=\"start\" x=\"457.5\" y=\"-126.8\" font-family=\"Helvetica,sans-Serif\" font-size=\"14.00\">value = [244, 400]</text>\r\n<text text-anchor=\"start\" x=\"485\" y=\"-111.8\" font-family=\"Helvetica,sans-Serif\" font-size=\"14.00\">class = E</text>\r\n</g>\r\n<!-- 18&#45;&gt;19 -->\r\n<g id=\"edge19\" class=\"edge\"><title>18&#45;&gt;19</title>\r\n<path fill=\"none\" stroke=\"black\" d=\"M642.499,-222.907C625.928,-213.016 608.09,-202.368 591.148,-192.254\"/>\r\n<polygon fill=\"black\" stroke=\"black\" points=\"592.762,-189.141 582.381,-187.021 589.174,-195.152 592.762,-189.141\"/>\r\n</g>\r\n<!-- 22 -->\r\n<g id=\"node23\" class=\"node\"><title>22</title>\r\n<path fill=\"#e2f1fb\" stroke=\"black\" d=\"M777,-187C777,-187 646,-187 646,-187 640,-187 634,-181 634,-175 634,-175 634,-116 634,-116 634,-110 640,-104 646,-104 646,-104 777,-104 777,-104 783,-104 789,-110 789,-116 789,-116 789,-175 789,-175 789,-181 783,-187 777,-187\"/>\r\n<text text-anchor=\"start\" x=\"642\" y=\"-171.8\" font-family=\"Helvetica,sans-Serif\" font-size=\"14.00\">Radius Mean ≤ &#45;1.152</text>\r\n<text text-anchor=\"start\" x=\"674\" y=\"-156.8\" font-family=\"Helvetica,sans-Serif\" font-size=\"14.00\">gini = 0.497</text>\r\n<text text-anchor=\"start\" x=\"660\" y=\"-141.8\" font-family=\"Helvetica,sans-Serif\" font-size=\"14.00\">samples = 1065</text>\r\n<text text-anchor=\"start\" x=\"654.5\" y=\"-126.8\" font-family=\"Helvetica,sans-Serif\" font-size=\"14.00\">value = [491, 574]</text>\r\n<text text-anchor=\"start\" x=\"682\" y=\"-111.8\" font-family=\"Helvetica,sans-Serif\" font-size=\"14.00\">class = E</text>\r\n</g>\r\n<!-- 18&#45;&gt;22 -->\r\n<g id=\"edge22\" class=\"edge\"><title>18&#45;&gt;22</title>\r\n<path fill=\"none\" stroke=\"black\" d=\"M710.847,-222.907C710.918,-214.649 710.993,-205.864 711.066,-197.302\"/>\r\n<polygon fill=\"black\" stroke=\"black\" points=\"714.568,-197.05 711.154,-187.021 707.568,-196.99 714.568,-197.05\"/>\r\n</g>\r\n<!-- 20 -->\r\n<g id=\"node21\" class=\"node\"><title>20</title>\r\n<path fill=\"#399de5\" stroke=\"black\" d=\"M420,-68C420,-68 347,-68 347,-68 341,-68 335,-62 335,-56 335,-56 335,-12 335,-12 335,-6 341,-0 347,-0 347,-0 420,-0 420,-0 426,-0 432,-6 432,-12 432,-12 432,-56 432,-56 432,-62 426,-68 420,-68\"/>\r\n<text text-anchor=\"start\" x=\"354.5\" y=\"-52.8\" font-family=\"Helvetica,sans-Serif\" font-size=\"14.00\">gini = 0.0</text>\r\n<text text-anchor=\"start\" x=\"344\" y=\"-37.8\" font-family=\"Helvetica,sans-Serif\" font-size=\"14.00\">samples = 1</text>\r\n<text text-anchor=\"start\" x=\"343\" y=\"-22.8\" font-family=\"Helvetica,sans-Serif\" font-size=\"14.00\">value = [0, 1]</text>\r\n<text text-anchor=\"start\" x=\"354\" y=\"-7.8\" font-family=\"Helvetica,sans-Serif\" font-size=\"14.00\">class = E</text>\r\n</g>\r\n<!-- 19&#45;&gt;20 -->\r\n<g id=\"edge20\" class=\"edge\"><title>19&#45;&gt;20</title>\r\n<path fill=\"none\" stroke=\"black\" d=\"M465.72,-103.726C454.372,-94.2406 442.307,-84.1551 431.014,-74.7159\"/>\r\n<polygon fill=\"black\" stroke=\"black\" points=\"433.255,-72.0276 423.338,-68.2996 428.766,-77.3984 433.255,-72.0276\"/>\r\n</g>\r\n<!-- 21 -->\r\n<g id=\"node22\" class=\"node\"><title>21</title>\r\n<path fill=\"#b2d9f5\" stroke=\"black\" d=\"M568.5,-68C568.5,-68 462.5,-68 462.5,-68 456.5,-68 450.5,-62 450.5,-56 450.5,-56 450.5,-12 450.5,-12 450.5,-6 456.5,-0 462.5,-0 462.5,-0 568.5,-0 568.5,-0 574.5,-0 580.5,-6 580.5,-12 580.5,-12 580.5,-56 580.5,-56 580.5,-62 574.5,-68 568.5,-68\"/>\r\n<text text-anchor=\"start\" x=\"478\" y=\"-52.8\" font-family=\"Helvetica,sans-Serif\" font-size=\"14.00\">gini = 0.471</text>\r\n<text text-anchor=\"start\" x=\"468\" y=\"-37.8\" font-family=\"Helvetica,sans-Serif\" font-size=\"14.00\">samples = 643</text>\r\n<text text-anchor=\"start\" x=\"458.5\" y=\"-22.8\" font-family=\"Helvetica,sans-Serif\" font-size=\"14.00\">value = [244, 399]</text>\r\n<text text-anchor=\"start\" x=\"486\" y=\"-7.8\" font-family=\"Helvetica,sans-Serif\" font-size=\"14.00\">class = E</text>\r\n</g>\r\n<!-- 19&#45;&gt;21 -->\r\n<g id=\"edge21\" class=\"edge\"><title>19&#45;&gt;21</title>\r\n<path fill=\"none\" stroke=\"black\" d=\"M514.872,-103.726C514.947,-95.5175 515.026,-86.8595 515.102,-78.56\"/>\r\n<polygon fill=\"black\" stroke=\"black\" points=\"518.604,-78.3312 515.196,-68.2996 511.605,-78.2672 518.604,-78.3312\"/>\r\n</g>\r\n<!-- 23 -->\r\n<g id=\"node24\" class=\"node\"><title>23</title>\r\n<path fill=\"#399de5\" stroke=\"black\" d=\"M686,-68C686,-68 613,-68 613,-68 607,-68 601,-62 601,-56 601,-56 601,-12 601,-12 601,-6 607,-0 613,-0 613,-0 686,-0 686,-0 692,-0 698,-6 698,-12 698,-12 698,-56 698,-56 698,-62 692,-68 686,-68\"/>\r\n<text text-anchor=\"start\" x=\"620.5\" y=\"-52.8\" font-family=\"Helvetica,sans-Serif\" font-size=\"14.00\">gini = 0.0</text>\r\n<text text-anchor=\"start\" x=\"610\" y=\"-37.8\" font-family=\"Helvetica,sans-Serif\" font-size=\"14.00\">samples = 1</text>\r\n<text text-anchor=\"start\" x=\"609\" y=\"-22.8\" font-family=\"Helvetica,sans-Serif\" font-size=\"14.00\">value = [0, 1]</text>\r\n<text text-anchor=\"start\" x=\"620\" y=\"-7.8\" font-family=\"Helvetica,sans-Serif\" font-size=\"14.00\">class = E</text>\r\n</g>\r\n<!-- 22&#45;&gt;23 -->\r\n<g id=\"edge23\" class=\"edge\"><title>22&#45;&gt;23</title>\r\n<path fill=\"none\" stroke=\"black\" d=\"M688.413,-103.726C683.507,-95.0615 678.318,-85.8962 673.383,-77.1802\"/>\r\n<polygon fill=\"black\" stroke=\"black\" points=\"676.327,-75.277 668.355,-68.2996 670.236,-78.726 676.327,-75.277\"/>\r\n</g>\r\n<!-- 24 -->\r\n<g id=\"node25\" class=\"node\"><title>24</title>\r\n<path fill=\"#e3f1fb\" stroke=\"black\" d=\"M834.5,-68C834.5,-68 728.5,-68 728.5,-68 722.5,-68 716.5,-62 716.5,-56 716.5,-56 716.5,-12 716.5,-12 716.5,-6 722.5,-0 728.5,-0 728.5,-0 834.5,-0 834.5,-0 840.5,-0 846.5,-6 846.5,-12 846.5,-12 846.5,-56 846.5,-56 846.5,-62 840.5,-68 834.5,-68\"/>\r\n<text text-anchor=\"start\" x=\"744\" y=\"-52.8\" font-family=\"Helvetica,sans-Serif\" font-size=\"14.00\">gini = 0.497</text>\r\n<text text-anchor=\"start\" x=\"730\" y=\"-37.8\" font-family=\"Helvetica,sans-Serif\" font-size=\"14.00\">samples = 1064</text>\r\n<text text-anchor=\"start\" x=\"724.5\" y=\"-22.8\" font-family=\"Helvetica,sans-Serif\" font-size=\"14.00\">value = [491, 573]</text>\r\n<text text-anchor=\"start\" x=\"752\" y=\"-7.8\" font-family=\"Helvetica,sans-Serif\" font-size=\"14.00\">class = E</text>\r\n</g>\r\n<!-- 22&#45;&gt;24 -->\r\n<g id=\"edge24\" class=\"edge\"><title>22&#45;&gt;24</title>\r\n<path fill=\"none\" stroke=\"black\" d=\"M737.565,-103.726C743.163,-94.9703 749.087,-85.7032 754.711,-76.9051\"/>\r\n<polygon fill=\"black\" stroke=\"black\" points=\"757.775,-78.6103 760.213,-68.2996 751.877,-74.8399 757.775,-78.6103\"/>\r\n</g>\r\n<!-- 26 -->\r\n<g id=\"node27\" class=\"node\"><title>26</title>\r\n<path fill=\"#8fc8f0\" stroke=\"black\" d=\"M1008,-187C1008,-187 829,-187 829,-187 823,-187 817,-181 817,-175 817,-175 817,-116 817,-116 817,-110 823,-104 829,-104 829,-104 1008,-104 1008,-104 1014,-104 1020,-110 1020,-116 1020,-116 1020,-175 1020,-175 1020,-181 1014,-187 1008,-187\"/>\r\n<text text-anchor=\"start\" x=\"825\" y=\"-171.8\" font-family=\"Helvetica,sans-Serif\" font-size=\"14.00\">Concave Point Mean ≤ &#45;0.266</text>\r\n<text text-anchor=\"start\" x=\"881\" y=\"-156.8\" font-family=\"Helvetica,sans-Serif\" font-size=\"14.00\">gini = 0.423</text>\r\n<text text-anchor=\"start\" x=\"871\" y=\"-141.8\" font-family=\"Helvetica,sans-Serif\" font-size=\"14.00\">samples = 336</text>\r\n<text text-anchor=\"start\" x=\"861.5\" y=\"-126.8\" font-family=\"Helvetica,sans-Serif\" font-size=\"14.00\">value = [102, 234]</text>\r\n<text text-anchor=\"start\" x=\"889\" y=\"-111.8\" font-family=\"Helvetica,sans-Serif\" font-size=\"14.00\">class = E</text>\r\n</g>\r\n<!-- 25&#45;&gt;26 -->\r\n<g id=\"edge26\" class=\"edge\"><title>25&#45;&gt;26</title>\r\n<path fill=\"none\" stroke=\"black\" d=\"M924.377,-222.907C923.735,-214.558 923.052,-205.671 922.386,-197.02\"/>\r\n<polygon fill=\"black\" stroke=\"black\" points=\"925.874,-196.723 921.617,-187.021 918.894,-197.26 925.874,-196.723\"/>\r\n</g>\r\n<!-- 29 -->\r\n<g id=\"node30\" class=\"node\"><title>29</title>\r\n<path fill=\"#55abe9\" stroke=\"black\" d=\"M1148.5,-179.5C1148.5,-179.5 1050.5,-179.5 1050.5,-179.5 1044.5,-179.5 1038.5,-173.5 1038.5,-167.5 1038.5,-167.5 1038.5,-123.5 1038.5,-123.5 1038.5,-117.5 1044.5,-111.5 1050.5,-111.5 1050.5,-111.5 1148.5,-111.5 1148.5,-111.5 1154.5,-111.5 1160.5,-117.5 1160.5,-123.5 1160.5,-123.5 1160.5,-167.5 1160.5,-167.5 1160.5,-173.5 1154.5,-179.5 1148.5,-179.5\"/>\r\n<text text-anchor=\"start\" x=\"1062\" y=\"-164.3\" font-family=\"Helvetica,sans-Serif\" font-size=\"14.00\">gini = 0.217</text>\r\n<text text-anchor=\"start\" x=\"1052\" y=\"-149.3\" font-family=\"Helvetica,sans-Serif\" font-size=\"14.00\">samples = 274</text>\r\n<text text-anchor=\"start\" x=\"1046.5\" y=\"-134.3\" font-family=\"Helvetica,sans-Serif\" font-size=\"14.00\">value = [34, 240]</text>\r\n<text text-anchor=\"start\" x=\"1070\" y=\"-119.3\" font-family=\"Helvetica,sans-Serif\" font-size=\"14.00\">class = E</text>\r\n</g>\r\n<!-- 25&#45;&gt;29 -->\r\n<g id=\"edge29\" class=\"edge\"><title>25&#45;&gt;29</title>\r\n<path fill=\"none\" stroke=\"black\" d=\"M987.175,-222.907C1005.02,-210.769 1024.54,-197.493 1042.22,-185.462\"/>\r\n<polygon fill=\"black\" stroke=\"black\" points=\"1044.44,-188.185 1050.74,-179.667 1040.5,-182.397 1044.44,-188.185\"/>\r\n</g>\r\n<!-- 27 -->\r\n<g id=\"node28\" class=\"node\"><title>27</title>\r\n<path fill=\"#399de5\" stroke=\"black\" d=\"M954,-68C954,-68 881,-68 881,-68 875,-68 869,-62 869,-56 869,-56 869,-12 869,-12 869,-6 875,-0 881,-0 881,-0 954,-0 954,-0 960,-0 966,-6 966,-12 966,-12 966,-56 966,-56 966,-62 960,-68 954,-68\"/>\r\n<text text-anchor=\"start\" x=\"888.5\" y=\"-52.8\" font-family=\"Helvetica,sans-Serif\" font-size=\"14.00\">gini = 0.0</text>\r\n<text text-anchor=\"start\" x=\"878\" y=\"-37.8\" font-family=\"Helvetica,sans-Serif\" font-size=\"14.00\">samples = 1</text>\r\n<text text-anchor=\"start\" x=\"877\" y=\"-22.8\" font-family=\"Helvetica,sans-Serif\" font-size=\"14.00\">value = [0, 1]</text>\r\n<text text-anchor=\"start\" x=\"888\" y=\"-7.8\" font-family=\"Helvetica,sans-Serif\" font-size=\"14.00\">class = E</text>\r\n</g>\r\n<!-- 26&#45;&gt;27 -->\r\n<g id=\"edge27\" class=\"edge\"><title>26&#45;&gt;27</title>\r\n<path fill=\"none\" stroke=\"black\" d=\"M918.128,-103.726C918.053,-95.5175 917.974,-86.8595 917.898,-78.56\"/>\r\n<polygon fill=\"black\" stroke=\"black\" points=\"921.395,-78.2672 917.804,-68.2996 914.396,-78.3312 921.395,-78.2672\"/>\r\n</g>\r\n<!-- 28 -->\r\n<g id=\"node29\" class=\"node\"><title>28</title>\r\n<path fill=\"#90c8f0\" stroke=\"black\" d=\"M1102.5,-68C1102.5,-68 996.5,-68 996.5,-68 990.5,-68 984.5,-62 984.5,-56 984.5,-56 984.5,-12 984.5,-12 984.5,-6 990.5,-0 996.5,-0 996.5,-0 1102.5,-0 1102.5,-0 1108.5,-0 1114.5,-6 1114.5,-12 1114.5,-12 1114.5,-56 1114.5,-56 1114.5,-62 1108.5,-68 1102.5,-68\"/>\r\n<text text-anchor=\"start\" x=\"1012\" y=\"-52.8\" font-family=\"Helvetica,sans-Serif\" font-size=\"14.00\">gini = 0.424</text>\r\n<text text-anchor=\"start\" x=\"1002\" y=\"-37.8\" font-family=\"Helvetica,sans-Serif\" font-size=\"14.00\">samples = 335</text>\r\n<text text-anchor=\"start\" x=\"992.5\" y=\"-22.8\" font-family=\"Helvetica,sans-Serif\" font-size=\"14.00\">value = [102, 233]</text>\r\n<text text-anchor=\"start\" x=\"1020\" y=\"-7.8\" font-family=\"Helvetica,sans-Serif\" font-size=\"14.00\">class = E</text>\r\n</g>\r\n<!-- 26&#45;&gt;28 -->\r\n<g id=\"edge28\" class=\"edge\"><title>26&#45;&gt;28</title>\r\n<path fill=\"none\" stroke=\"black\" d=\"M967.28,-103.726C978.628,-94.2406 990.693,-84.1551 1001.99,-74.7159\"/>\r\n<polygon fill=\"black\" stroke=\"black\" points=\"1004.23,-77.3984 1009.66,-68.2996 999.745,-72.0276 1004.23,-77.3984\"/>\r\n</g>\r\n<!-- 31 -->\r\n<g id=\"node32\" class=\"node\"><title>31</title>\r\n<path fill=\"#d3e9f9\" stroke=\"black\" d=\"M1163.5,-298.5C1163.5,-298.5 1057.5,-298.5 1057.5,-298.5 1051.5,-298.5 1045.5,-292.5 1045.5,-286.5 1045.5,-286.5 1045.5,-242.5 1045.5,-242.5 1045.5,-236.5 1051.5,-230.5 1057.5,-230.5 1057.5,-230.5 1163.5,-230.5 1163.5,-230.5 1169.5,-230.5 1175.5,-236.5 1175.5,-242.5 1175.5,-242.5 1175.5,-286.5 1175.5,-286.5 1175.5,-292.5 1169.5,-298.5 1163.5,-298.5\"/>\r\n<text text-anchor=\"start\" x=\"1073\" y=\"-283.3\" font-family=\"Helvetica,sans-Serif\" font-size=\"14.00\">gini = 0.492</text>\r\n<text text-anchor=\"start\" x=\"1063\" y=\"-268.3\" font-family=\"Helvetica,sans-Serif\" font-size=\"14.00\">samples = 879</text>\r\n<text text-anchor=\"start\" x=\"1053.5\" y=\"-253.3\" font-family=\"Helvetica,sans-Serif\" font-size=\"14.00\">value = [385, 494]</text>\r\n<text text-anchor=\"start\" x=\"1081\" y=\"-238.3\" font-family=\"Helvetica,sans-Serif\" font-size=\"14.00\">class = E</text>\r\n</g>\r\n<!-- 30&#45;&gt;31 -->\r\n<g id=\"edge31\" class=\"edge\"><title>30&#45;&gt;31</title>\r\n<path fill=\"none\" stroke=\"black\" d=\"M1110.5,-341.907C1110.5,-331.204 1110.5,-319.615 1110.5,-308.776\"/>\r\n<polygon fill=\"black\" stroke=\"black\" points=\"1114,-308.667 1110.5,-298.667 1107,-308.667 1114,-308.667\"/>\r\n</g>\r\n<!-- 32 -->\r\n<g id=\"node33\" class=\"node\"><title>32</title>\r\n<path fill=\"#fefcfb\" stroke=\"black\" d=\"M1311.5,-298.5C1311.5,-298.5 1205.5,-298.5 1205.5,-298.5 1199.5,-298.5 1193.5,-292.5 1193.5,-286.5 1193.5,-286.5 1193.5,-242.5 1193.5,-242.5 1193.5,-236.5 1199.5,-230.5 1205.5,-230.5 1205.5,-230.5 1311.5,-230.5 1311.5,-230.5 1317.5,-230.5 1323.5,-236.5 1323.5,-242.5 1323.5,-242.5 1323.5,-286.5 1323.5,-286.5 1323.5,-292.5 1317.5,-298.5 1311.5,-298.5\"/>\r\n<text text-anchor=\"start\" x=\"1229.5\" y=\"-283.3\" font-family=\"Helvetica,sans-Serif\" font-size=\"14.00\">gini = 0.5</text>\r\n<text text-anchor=\"start\" x=\"1207\" y=\"-268.3\" font-family=\"Helvetica,sans-Serif\" font-size=\"14.00\">samples = 1137</text>\r\n<text text-anchor=\"start\" x=\"1201.5\" y=\"-253.3\" font-family=\"Helvetica,sans-Serif\" font-size=\"14.00\">value = [575, 562]</text>\r\n<text text-anchor=\"start\" x=\"1229\" y=\"-238.3\" font-family=\"Helvetica,sans-Serif\" font-size=\"14.00\">class = P</text>\r\n</g>\r\n<!-- 30&#45;&gt;32 -->\r\n<g id=\"edge32\" class=\"edge\"><title>30&#45;&gt;32</title>\r\n<path fill=\"none\" stroke=\"black\" d=\"M1161.85,-341.907C1176.92,-329.99 1193.39,-316.976 1208.38,-305.12\"/>\r\n<polygon fill=\"black\" stroke=\"black\" points=\"1210.87,-307.614 1216.55,-298.667 1206.53,-302.123 1210.87,-307.614\"/>\r\n</g>\r\n</g>\r\n</svg>\r\n",
      "text/plain": [
       "<graphviz.files.Source at 0x2ccceb38dc0>"
      ]
     },
     "execution_count": 19,
     "metadata": {},
     "output_type": "execute_result"
    }
   ],
   "source": [
    "import graphviz\n",
    "from sklearn import tree\n",
    "\n",
    "dot_data = tree.export_graphviz(\n",
    "    dt.fit(X_train, y_train), \n",
    "    out_file=None,\n",
    "    feature_names=['Radius Mean', 'Concave Point Mean'],\n",
    "    class_names=['P', 'E'],\n",
    "    filled=True, rounded=True, \n",
    "    special_characters=True)\n",
    "graph = graphviz.Source(dot_data)\n",
    "graph"
   ]
  },
  {
   "cell_type": "code",
   "execution_count": null,
   "metadata": {},
   "outputs": [],
   "source": []
  }
 ],
 "metadata": {
  "kernelspec": {
   "display_name": "Python 3.8.8 ('base')",
   "language": "python",
   "name": "python3"
  },
  "language_info": {
   "codemirror_mode": {
    "name": "ipython",
    "version": 3
   },
   "file_extension": ".py",
   "mimetype": "text/x-python",
   "name": "python",
   "nbconvert_exporter": "python",
   "pygments_lexer": "ipython3",
   "version": "3.8.8"
  },
  "orig_nbformat": 4,
  "vscode": {
   "interpreter": {
    "hash": "52d90d3cc821dd0beedd6e719dbdecc722c226b9d90ed1b663c34e1877f1142e"
   }
  }
 },
 "nbformat": 4,
 "nbformat_minor": 2
}
